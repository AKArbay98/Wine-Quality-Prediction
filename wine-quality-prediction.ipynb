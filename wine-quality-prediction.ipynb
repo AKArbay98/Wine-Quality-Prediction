{
 "cells": [
  {
   "cell_type": "markdown",
   "id": "c3afb6b0",
   "metadata": {
    "_cell_guid": "b1076dfc-b9ad-4769-8c92-a6c4dae69d19",
    "_uuid": "8f2839f25d086af736a60e9eeb907d3b93b6e0e5",
    "papermill": {
     "duration": 0.074793,
     "end_time": "2021-08-17T21:59:13.273300",
     "exception": false,
     "start_time": "2021-08-17T21:59:13.198507",
     "status": "completed"
    },
    "tags": []
   },
   "source": [
    "# Wine Quality Prediction"
   ]
  },
  {
   "cell_type": "markdown",
   "id": "d43b434f",
   "metadata": {
    "papermill": {
     "duration": 0.07391,
     "end_time": "2021-08-17T21:59:13.420529",
     "exception": false,
     "start_time": "2021-08-17T21:59:13.346619",
     "status": "completed"
    },
    "tags": []
   },
   "source": [
    "In this notebook, some features that affect the quality of a wine are given.\n",
    "\n",
    "The following steps are applied in the project in order:\n",
    "\n",
    "1. The dataset is imported.\n",
    "\n",
    "1. It is observed whether there is missing data in the dataset and then necessary arrangements have been made.\n",
    "\n",
    "1. Statistical (descriptive) analysis and then visualization of the data were made for better understanding before modeling.\n",
    "\n",
    "1. Outliers of the data have been removed.\n",
    "\n",
    "1. First, standardization processes were applied to the data and then is divided into train and test.\n",
    "\n",
    "1. Machine learning models were created and model success was determined."
   ]
  },
  {
   "cell_type": "markdown",
   "id": "a0541d36",
   "metadata": {
    "papermill": {
     "duration": 0.077627,
     "end_time": "2021-08-17T21:59:13.571057",
     "exception": false,
     "start_time": "2021-08-17T21:59:13.493430",
     "status": "completed"
    },
    "tags": []
   },
   "source": [
    "# 1."
   ]
  },
  {
   "cell_type": "code",
   "execution_count": 1,
   "id": "cb3e1090",
   "metadata": {
    "execution": {
     "iopub.execute_input": "2021-08-17T21:59:13.734257Z",
     "iopub.status.busy": "2021-08-17T21:59:13.727127Z",
     "iopub.status.idle": "2021-08-17T21:59:15.118087Z",
     "shell.execute_reply": "2021-08-17T21:59:15.117564Z",
     "shell.execute_reply.started": "2021-08-17T21:02:38.122451Z"
    },
    "papermill": {
     "duration": 1.474041,
     "end_time": "2021-08-17T21:59:15.118213",
     "exception": false,
     "start_time": "2021-08-17T21:59:13.644172",
     "status": "completed"
    },
    "tags": []
   },
   "outputs": [],
   "source": [
    "import numpy as np\n",
    "import pandas as pd\n",
    "import matplotlib.pyplot as plt\n",
    "import seaborn as sns\n",
    "from sklearn import preprocessing\n",
    "from sklearn.preprocessing import LabelEncoder\n",
    "from sklearn.neighbors import LocalOutlierFactor\n",
    "from sklearn.decomposition import PCA\n",
    "from sklearn.preprocessing import StandardScaler\n",
    "from sklearn.model_selection import train_test_split\n",
    "from sklearn.linear_model import LogisticRegression\n",
    "from sklearn.metrics import confusion_matrix , accuracy_score\n",
    "from sklearn.neighbors import KNeighborsClassifier\n",
    "from sklearn.svm import SVC\n",
    "from sklearn.tree import DecisionTreeClassifier\n",
    "from sklearn.ensemble import RandomForestClassifier\n",
    "from sklearn.ensemble import GradientBoostingClassifier\n",
    "from sklearn.model_selection import GridSearchCV , cross_val_score\n"
   ]
  },
  {
   "cell_type": "code",
   "execution_count": 2,
   "id": "941650ec",
   "metadata": {
    "execution": {
     "iopub.execute_input": "2021-08-17T21:59:15.219188Z",
     "iopub.status.busy": "2021-08-17T21:59:15.218729Z",
     "iopub.status.idle": "2021-08-17T21:59:15.239154Z",
     "shell.execute_reply": "2021-08-17T21:59:15.238626Z",
     "shell.execute_reply.started": "2021-08-17T20:42:28.263579Z"
    },
    "papermill": {
     "duration": 0.072479,
     "end_time": "2021-08-17T21:59:15.239257",
     "exception": false,
     "start_time": "2021-08-17T21:59:15.166778",
     "status": "completed"
    },
    "tags": []
   },
   "outputs": [],
   "source": [
    "data=pd.read_csv(\"../input/red-wine-quality-cortez-et-al-2009/winequality-red.csv\")"
   ]
  },
  {
   "cell_type": "code",
   "execution_count": 3,
   "id": "ccf06aab",
   "metadata": {
    "execution": {
     "iopub.execute_input": "2021-08-17T21:59:15.350235Z",
     "iopub.status.busy": "2021-08-17T21:59:15.344246Z",
     "iopub.status.idle": "2021-08-17T21:59:15.381910Z",
     "shell.execute_reply": "2021-08-17T21:59:15.382426Z",
     "shell.execute_reply.started": "2021-08-17T20:42:31.993475Z"
    },
    "papermill": {
     "duration": 0.095082,
     "end_time": "2021-08-17T21:59:15.382575",
     "exception": false,
     "start_time": "2021-08-17T21:59:15.287493",
     "status": "completed"
    },
    "tags": []
   },
   "outputs": [
    {
     "data": {
      "text/html": [
       "<div>\n",
       "<style scoped>\n",
       "    .dataframe tbody tr th:only-of-type {\n",
       "        vertical-align: middle;\n",
       "    }\n",
       "\n",
       "    .dataframe tbody tr th {\n",
       "        vertical-align: top;\n",
       "    }\n",
       "\n",
       "    .dataframe thead th {\n",
       "        text-align: right;\n",
       "    }\n",
       "</style>\n",
       "<table border=\"1\" class=\"dataframe\">\n",
       "  <thead>\n",
       "    <tr style=\"text-align: right;\">\n",
       "      <th></th>\n",
       "      <th>fixed acidity</th>\n",
       "      <th>volatile acidity</th>\n",
       "      <th>citric acid</th>\n",
       "      <th>residual sugar</th>\n",
       "      <th>chlorides</th>\n",
       "      <th>free sulfur dioxide</th>\n",
       "      <th>total sulfur dioxide</th>\n",
       "      <th>density</th>\n",
       "      <th>pH</th>\n",
       "      <th>sulphates</th>\n",
       "      <th>alcohol</th>\n",
       "      <th>quality</th>\n",
       "    </tr>\n",
       "  </thead>\n",
       "  <tbody>\n",
       "    <tr>\n",
       "      <th>0</th>\n",
       "      <td>7.4</td>\n",
       "      <td>0.700</td>\n",
       "      <td>0.00</td>\n",
       "      <td>1.9</td>\n",
       "      <td>0.076</td>\n",
       "      <td>11.0</td>\n",
       "      <td>34.0</td>\n",
       "      <td>0.99780</td>\n",
       "      <td>3.51</td>\n",
       "      <td>0.56</td>\n",
       "      <td>9.4</td>\n",
       "      <td>5</td>\n",
       "    </tr>\n",
       "    <tr>\n",
       "      <th>1</th>\n",
       "      <td>7.8</td>\n",
       "      <td>0.880</td>\n",
       "      <td>0.00</td>\n",
       "      <td>2.6</td>\n",
       "      <td>0.098</td>\n",
       "      <td>25.0</td>\n",
       "      <td>67.0</td>\n",
       "      <td>0.99680</td>\n",
       "      <td>3.20</td>\n",
       "      <td>0.68</td>\n",
       "      <td>9.8</td>\n",
       "      <td>5</td>\n",
       "    </tr>\n",
       "    <tr>\n",
       "      <th>2</th>\n",
       "      <td>7.8</td>\n",
       "      <td>0.760</td>\n",
       "      <td>0.04</td>\n",
       "      <td>2.3</td>\n",
       "      <td>0.092</td>\n",
       "      <td>15.0</td>\n",
       "      <td>54.0</td>\n",
       "      <td>0.99700</td>\n",
       "      <td>3.26</td>\n",
       "      <td>0.65</td>\n",
       "      <td>9.8</td>\n",
       "      <td>5</td>\n",
       "    </tr>\n",
       "    <tr>\n",
       "      <th>3</th>\n",
       "      <td>11.2</td>\n",
       "      <td>0.280</td>\n",
       "      <td>0.56</td>\n",
       "      <td>1.9</td>\n",
       "      <td>0.075</td>\n",
       "      <td>17.0</td>\n",
       "      <td>60.0</td>\n",
       "      <td>0.99800</td>\n",
       "      <td>3.16</td>\n",
       "      <td>0.58</td>\n",
       "      <td>9.8</td>\n",
       "      <td>6</td>\n",
       "    </tr>\n",
       "    <tr>\n",
       "      <th>4</th>\n",
       "      <td>7.4</td>\n",
       "      <td>0.700</td>\n",
       "      <td>0.00</td>\n",
       "      <td>1.9</td>\n",
       "      <td>0.076</td>\n",
       "      <td>11.0</td>\n",
       "      <td>34.0</td>\n",
       "      <td>0.99780</td>\n",
       "      <td>3.51</td>\n",
       "      <td>0.56</td>\n",
       "      <td>9.4</td>\n",
       "      <td>5</td>\n",
       "    </tr>\n",
       "    <tr>\n",
       "      <th>...</th>\n",
       "      <td>...</td>\n",
       "      <td>...</td>\n",
       "      <td>...</td>\n",
       "      <td>...</td>\n",
       "      <td>...</td>\n",
       "      <td>...</td>\n",
       "      <td>...</td>\n",
       "      <td>...</td>\n",
       "      <td>...</td>\n",
       "      <td>...</td>\n",
       "      <td>...</td>\n",
       "      <td>...</td>\n",
       "    </tr>\n",
       "    <tr>\n",
       "      <th>1594</th>\n",
       "      <td>6.2</td>\n",
       "      <td>0.600</td>\n",
       "      <td>0.08</td>\n",
       "      <td>2.0</td>\n",
       "      <td>0.090</td>\n",
       "      <td>32.0</td>\n",
       "      <td>44.0</td>\n",
       "      <td>0.99490</td>\n",
       "      <td>3.45</td>\n",
       "      <td>0.58</td>\n",
       "      <td>10.5</td>\n",
       "      <td>5</td>\n",
       "    </tr>\n",
       "    <tr>\n",
       "      <th>1595</th>\n",
       "      <td>5.9</td>\n",
       "      <td>0.550</td>\n",
       "      <td>0.10</td>\n",
       "      <td>2.2</td>\n",
       "      <td>0.062</td>\n",
       "      <td>39.0</td>\n",
       "      <td>51.0</td>\n",
       "      <td>0.99512</td>\n",
       "      <td>3.52</td>\n",
       "      <td>0.76</td>\n",
       "      <td>11.2</td>\n",
       "      <td>6</td>\n",
       "    </tr>\n",
       "    <tr>\n",
       "      <th>1596</th>\n",
       "      <td>6.3</td>\n",
       "      <td>0.510</td>\n",
       "      <td>0.13</td>\n",
       "      <td>2.3</td>\n",
       "      <td>0.076</td>\n",
       "      <td>29.0</td>\n",
       "      <td>40.0</td>\n",
       "      <td>0.99574</td>\n",
       "      <td>3.42</td>\n",
       "      <td>0.75</td>\n",
       "      <td>11.0</td>\n",
       "      <td>6</td>\n",
       "    </tr>\n",
       "    <tr>\n",
       "      <th>1597</th>\n",
       "      <td>5.9</td>\n",
       "      <td>0.645</td>\n",
       "      <td>0.12</td>\n",
       "      <td>2.0</td>\n",
       "      <td>0.075</td>\n",
       "      <td>32.0</td>\n",
       "      <td>44.0</td>\n",
       "      <td>0.99547</td>\n",
       "      <td>3.57</td>\n",
       "      <td>0.71</td>\n",
       "      <td>10.2</td>\n",
       "      <td>5</td>\n",
       "    </tr>\n",
       "    <tr>\n",
       "      <th>1598</th>\n",
       "      <td>6.0</td>\n",
       "      <td>0.310</td>\n",
       "      <td>0.47</td>\n",
       "      <td>3.6</td>\n",
       "      <td>0.067</td>\n",
       "      <td>18.0</td>\n",
       "      <td>42.0</td>\n",
       "      <td>0.99549</td>\n",
       "      <td>3.39</td>\n",
       "      <td>0.66</td>\n",
       "      <td>11.0</td>\n",
       "      <td>6</td>\n",
       "    </tr>\n",
       "  </tbody>\n",
       "</table>\n",
       "<p>1599 rows × 12 columns</p>\n",
       "</div>"
      ],
      "text/plain": [
       "      fixed acidity  volatile acidity  citric acid  residual sugar  chlorides  \\\n",
       "0               7.4             0.700         0.00             1.9      0.076   \n",
       "1               7.8             0.880         0.00             2.6      0.098   \n",
       "2               7.8             0.760         0.04             2.3      0.092   \n",
       "3              11.2             0.280         0.56             1.9      0.075   \n",
       "4               7.4             0.700         0.00             1.9      0.076   \n",
       "...             ...               ...          ...             ...        ...   \n",
       "1594            6.2             0.600         0.08             2.0      0.090   \n",
       "1595            5.9             0.550         0.10             2.2      0.062   \n",
       "1596            6.3             0.510         0.13             2.3      0.076   \n",
       "1597            5.9             0.645         0.12             2.0      0.075   \n",
       "1598            6.0             0.310         0.47             3.6      0.067   \n",
       "\n",
       "      free sulfur dioxide  total sulfur dioxide  density    pH  sulphates  \\\n",
       "0                    11.0                  34.0  0.99780  3.51       0.56   \n",
       "1                    25.0                  67.0  0.99680  3.20       0.68   \n",
       "2                    15.0                  54.0  0.99700  3.26       0.65   \n",
       "3                    17.0                  60.0  0.99800  3.16       0.58   \n",
       "4                    11.0                  34.0  0.99780  3.51       0.56   \n",
       "...                   ...                   ...      ...   ...        ...   \n",
       "1594                 32.0                  44.0  0.99490  3.45       0.58   \n",
       "1595                 39.0                  51.0  0.99512  3.52       0.76   \n",
       "1596                 29.0                  40.0  0.99574  3.42       0.75   \n",
       "1597                 32.0                  44.0  0.99547  3.57       0.71   \n",
       "1598                 18.0                  42.0  0.99549  3.39       0.66   \n",
       "\n",
       "      alcohol  quality  \n",
       "0         9.4        5  \n",
       "1         9.8        5  \n",
       "2         9.8        5  \n",
       "3         9.8        6  \n",
       "4         9.4        5  \n",
       "...       ...      ...  \n",
       "1594     10.5        5  \n",
       "1595     11.2        6  \n",
       "1596     11.0        6  \n",
       "1597     10.2        5  \n",
       "1598     11.0        6  \n",
       "\n",
       "[1599 rows x 12 columns]"
      ]
     },
     "execution_count": 3,
     "metadata": {},
     "output_type": "execute_result"
    }
   ],
   "source": [
    "data"
   ]
  },
  {
   "cell_type": "markdown",
   "id": "2f685d3e",
   "metadata": {
    "papermill": {
     "duration": 0.074752,
     "end_time": "2021-08-17T21:59:15.531236",
     "exception": false,
     "start_time": "2021-08-17T21:59:15.456484",
     "status": "completed"
    },
    "tags": []
   },
   "source": [
    "# 2."
   ]
  },
  {
   "cell_type": "code",
   "execution_count": 4,
   "id": "a9c7aa31",
   "metadata": {
    "execution": {
     "iopub.execute_input": "2021-08-17T21:59:15.682262Z",
     "iopub.status.busy": "2021-08-17T21:59:15.681627Z",
     "iopub.status.idle": "2021-08-17T21:59:15.699004Z",
     "shell.execute_reply": "2021-08-17T21:59:15.698390Z",
     "shell.execute_reply.started": "2021-08-17T20:42:56.968794Z"
    },
    "papermill": {
     "duration": 0.093426,
     "end_time": "2021-08-17T21:59:15.699131",
     "exception": false,
     "start_time": "2021-08-17T21:59:15.605705",
     "status": "completed"
    },
    "tags": []
   },
   "outputs": [
    {
     "name": "stdout",
     "output_type": "stream",
     "text": [
      "<class 'pandas.core.frame.DataFrame'>\n",
      "RangeIndex: 1599 entries, 0 to 1598\n",
      "Data columns (total 12 columns):\n",
      " #   Column                Non-Null Count  Dtype  \n",
      "---  ------                --------------  -----  \n",
      " 0   fixed acidity         1599 non-null   float64\n",
      " 1   volatile acidity      1599 non-null   float64\n",
      " 2   citric acid           1599 non-null   float64\n",
      " 3   residual sugar        1599 non-null   float64\n",
      " 4   chlorides             1599 non-null   float64\n",
      " 5   free sulfur dioxide   1599 non-null   float64\n",
      " 6   total sulfur dioxide  1599 non-null   float64\n",
      " 7   density               1599 non-null   float64\n",
      " 8   pH                    1599 non-null   float64\n",
      " 9   sulphates             1599 non-null   float64\n",
      " 10  alcohol               1599 non-null   float64\n",
      " 11  quality               1599 non-null   int64  \n",
      "dtypes: float64(11), int64(1)\n",
      "memory usage: 150.0 KB\n"
     ]
    }
   ],
   "source": [
    "data.info()"
   ]
  },
  {
   "cell_type": "code",
   "execution_count": 5,
   "id": "d55760b4",
   "metadata": {
    "execution": {
     "iopub.execute_input": "2021-08-17T21:59:15.855450Z",
     "iopub.status.busy": "2021-08-17T21:59:15.854826Z",
     "iopub.status.idle": "2021-08-17T21:59:15.857150Z",
     "shell.execute_reply": "2021-08-17T21:59:15.857651Z",
     "shell.execute_reply.started": "2021-08-17T21:29:33.5114Z"
    },
    "papermill": {
     "duration": 0.083998,
     "end_time": "2021-08-17T21:59:15.857791",
     "exception": false,
     "start_time": "2021-08-17T21:59:15.773793",
     "status": "completed"
    },
    "tags": []
   },
   "outputs": [
    {
     "data": {
      "text/plain": [
       "fixed acidity           0\n",
       "volatile acidity        0\n",
       "citric acid             0\n",
       "residual sugar          0\n",
       "chlorides               0\n",
       "free sulfur dioxide     0\n",
       "total sulfur dioxide    0\n",
       "density                 0\n",
       "pH                      0\n",
       "sulphates               0\n",
       "alcohol                 0\n",
       "quality                 0\n",
       "dtype: int64"
      ]
     },
     "execution_count": 5,
     "metadata": {},
     "output_type": "execute_result"
    }
   ],
   "source": [
    "data.isnull().sum()  # There is not missing data in the dataset. :)"
   ]
  },
  {
   "cell_type": "code",
   "execution_count": 6,
   "id": "b1069e67",
   "metadata": {
    "execution": {
     "iopub.execute_input": "2021-08-17T21:59:16.009987Z",
     "iopub.status.busy": "2021-08-17T21:59:16.009342Z",
     "iopub.status.idle": "2021-08-17T21:59:16.013290Z",
     "shell.execute_reply": "2021-08-17T21:59:16.013807Z",
     "shell.execute_reply.started": "2021-08-17T20:43:22.709601Z"
    },
    "papermill": {
     "duration": 0.081556,
     "end_time": "2021-08-17T21:59:16.013975",
     "exception": false,
     "start_time": "2021-08-17T21:59:15.932419",
     "status": "completed"
    },
    "tags": []
   },
   "outputs": [
    {
     "data": {
      "text/plain": [
       "(1599, 12)"
      ]
     },
     "execution_count": 6,
     "metadata": {},
     "output_type": "execute_result"
    }
   ],
   "source": [
    "data.shape"
   ]
  },
  {
   "cell_type": "code",
   "execution_count": 7,
   "id": "fdb09d6e",
   "metadata": {
    "execution": {
     "iopub.execute_input": "2021-08-17T21:59:16.169469Z",
     "iopub.status.busy": "2021-08-17T21:59:16.168691Z",
     "iopub.status.idle": "2021-08-17T21:59:16.172272Z",
     "shell.execute_reply": "2021-08-17T21:59:16.172780Z",
     "shell.execute_reply.started": "2021-08-17T20:43:30.859847Z"
    },
    "papermill": {
     "duration": 0.083796,
     "end_time": "2021-08-17T21:59:16.172940",
     "exception": false,
     "start_time": "2021-08-17T21:59:16.089144",
     "status": "completed"
    },
    "tags": []
   },
   "outputs": [
    {
     "data": {
      "text/plain": [
       "Index(['fixed acidity', 'volatile acidity', 'citric acid', 'residual sugar',\n",
       "       'chlorides', 'free sulfur dioxide', 'total sulfur dioxide', 'density',\n",
       "       'pH', 'sulphates', 'alcohol', 'quality'],\n",
       "      dtype='object')"
      ]
     },
     "execution_count": 7,
     "metadata": {},
     "output_type": "execute_result"
    }
   ],
   "source": [
    "data.columns"
   ]
  },
  {
   "cell_type": "markdown",
   "id": "374ed311",
   "metadata": {
    "papermill": {
     "duration": 0.075481,
     "end_time": "2021-08-17T21:59:16.323611",
     "exception": false,
     "start_time": "2021-08-17T21:59:16.248130",
     "status": "completed"
    },
    "tags": []
   },
   "source": [
    "# 3."
   ]
  },
  {
   "cell_type": "code",
   "execution_count": 8,
   "id": "709bf293",
   "metadata": {
    "execution": {
     "iopub.execute_input": "2021-08-17T21:59:16.480485Z",
     "iopub.status.busy": "2021-08-17T21:59:16.479589Z",
     "iopub.status.idle": "2021-08-17T21:59:16.537843Z",
     "shell.execute_reply": "2021-08-17T21:59:16.537091Z",
     "shell.execute_reply.started": "2021-08-17T20:43:51.623208Z"
    },
    "papermill": {
     "duration": 0.13875,
     "end_time": "2021-08-17T21:59:16.537977",
     "exception": false,
     "start_time": "2021-08-17T21:59:16.399227",
     "status": "completed"
    },
    "tags": []
   },
   "outputs": [
    {
     "data": {
      "text/html": [
       "<div>\n",
       "<style scoped>\n",
       "    .dataframe tbody tr th:only-of-type {\n",
       "        vertical-align: middle;\n",
       "    }\n",
       "\n",
       "    .dataframe tbody tr th {\n",
       "        vertical-align: top;\n",
       "    }\n",
       "\n",
       "    .dataframe thead th {\n",
       "        text-align: right;\n",
       "    }\n",
       "</style>\n",
       "<table border=\"1\" class=\"dataframe\">\n",
       "  <thead>\n",
       "    <tr style=\"text-align: right;\">\n",
       "      <th></th>\n",
       "      <th>count</th>\n",
       "      <th>mean</th>\n",
       "      <th>std</th>\n",
       "      <th>min</th>\n",
       "      <th>25%</th>\n",
       "      <th>50%</th>\n",
       "      <th>75%</th>\n",
       "      <th>max</th>\n",
       "      <th>variance</th>\n",
       "      <th>skewness</th>\n",
       "      <th>kurtosis</th>\n",
       "    </tr>\n",
       "  </thead>\n",
       "  <tbody>\n",
       "    <tr>\n",
       "      <th>fixed acidity</th>\n",
       "      <td>1599.0</td>\n",
       "      <td>8.319637</td>\n",
       "      <td>1.741096</td>\n",
       "      <td>4.60000</td>\n",
       "      <td>7.1000</td>\n",
       "      <td>7.90000</td>\n",
       "      <td>9.200000</td>\n",
       "      <td>15.90000</td>\n",
       "      <td>3.031416</td>\n",
       "      <td>0.982751</td>\n",
       "      <td>1.132143</td>\n",
       "    </tr>\n",
       "    <tr>\n",
       "      <th>volatile acidity</th>\n",
       "      <td>1599.0</td>\n",
       "      <td>0.527821</td>\n",
       "      <td>0.179060</td>\n",
       "      <td>0.12000</td>\n",
       "      <td>0.3900</td>\n",
       "      <td>0.52000</td>\n",
       "      <td>0.640000</td>\n",
       "      <td>1.58000</td>\n",
       "      <td>0.032062</td>\n",
       "      <td>0.671593</td>\n",
       "      <td>1.225542</td>\n",
       "    </tr>\n",
       "    <tr>\n",
       "      <th>citric acid</th>\n",
       "      <td>1599.0</td>\n",
       "      <td>0.270976</td>\n",
       "      <td>0.194801</td>\n",
       "      <td>0.00000</td>\n",
       "      <td>0.0900</td>\n",
       "      <td>0.26000</td>\n",
       "      <td>0.420000</td>\n",
       "      <td>1.00000</td>\n",
       "      <td>0.037947</td>\n",
       "      <td>0.318337</td>\n",
       "      <td>-0.788998</td>\n",
       "    </tr>\n",
       "    <tr>\n",
       "      <th>residual sugar</th>\n",
       "      <td>1599.0</td>\n",
       "      <td>2.538806</td>\n",
       "      <td>1.409928</td>\n",
       "      <td>0.90000</td>\n",
       "      <td>1.9000</td>\n",
       "      <td>2.20000</td>\n",
       "      <td>2.600000</td>\n",
       "      <td>15.50000</td>\n",
       "      <td>1.987897</td>\n",
       "      <td>4.540655</td>\n",
       "      <td>28.617595</td>\n",
       "    </tr>\n",
       "    <tr>\n",
       "      <th>chlorides</th>\n",
       "      <td>1599.0</td>\n",
       "      <td>0.087467</td>\n",
       "      <td>0.047065</td>\n",
       "      <td>0.01200</td>\n",
       "      <td>0.0700</td>\n",
       "      <td>0.07900</td>\n",
       "      <td>0.090000</td>\n",
       "      <td>0.61100</td>\n",
       "      <td>0.002215</td>\n",
       "      <td>5.680347</td>\n",
       "      <td>41.715787</td>\n",
       "    </tr>\n",
       "    <tr>\n",
       "      <th>free sulfur dioxide</th>\n",
       "      <td>1599.0</td>\n",
       "      <td>15.874922</td>\n",
       "      <td>10.460157</td>\n",
       "      <td>1.00000</td>\n",
       "      <td>7.0000</td>\n",
       "      <td>14.00000</td>\n",
       "      <td>21.000000</td>\n",
       "      <td>72.00000</td>\n",
       "      <td>109.414884</td>\n",
       "      <td>1.250567</td>\n",
       "      <td>2.023562</td>\n",
       "    </tr>\n",
       "    <tr>\n",
       "      <th>total sulfur dioxide</th>\n",
       "      <td>1599.0</td>\n",
       "      <td>46.467792</td>\n",
       "      <td>32.895324</td>\n",
       "      <td>6.00000</td>\n",
       "      <td>22.0000</td>\n",
       "      <td>38.00000</td>\n",
       "      <td>62.000000</td>\n",
       "      <td>289.00000</td>\n",
       "      <td>1082.102373</td>\n",
       "      <td>1.515531</td>\n",
       "      <td>3.809824</td>\n",
       "    </tr>\n",
       "    <tr>\n",
       "      <th>density</th>\n",
       "      <td>1599.0</td>\n",
       "      <td>0.996747</td>\n",
       "      <td>0.001887</td>\n",
       "      <td>0.99007</td>\n",
       "      <td>0.9956</td>\n",
       "      <td>0.99675</td>\n",
       "      <td>0.997835</td>\n",
       "      <td>1.00369</td>\n",
       "      <td>0.000004</td>\n",
       "      <td>0.071288</td>\n",
       "      <td>0.934079</td>\n",
       "    </tr>\n",
       "    <tr>\n",
       "      <th>pH</th>\n",
       "      <td>1599.0</td>\n",
       "      <td>3.311113</td>\n",
       "      <td>0.154386</td>\n",
       "      <td>2.74000</td>\n",
       "      <td>3.2100</td>\n",
       "      <td>3.31000</td>\n",
       "      <td>3.400000</td>\n",
       "      <td>4.01000</td>\n",
       "      <td>0.023835</td>\n",
       "      <td>0.193683</td>\n",
       "      <td>0.806943</td>\n",
       "    </tr>\n",
       "    <tr>\n",
       "      <th>sulphates</th>\n",
       "      <td>1599.0</td>\n",
       "      <td>0.658149</td>\n",
       "      <td>0.169507</td>\n",
       "      <td>0.33000</td>\n",
       "      <td>0.5500</td>\n",
       "      <td>0.62000</td>\n",
       "      <td>0.730000</td>\n",
       "      <td>2.00000</td>\n",
       "      <td>0.028733</td>\n",
       "      <td>2.428672</td>\n",
       "      <td>11.720251</td>\n",
       "    </tr>\n",
       "    <tr>\n",
       "      <th>alcohol</th>\n",
       "      <td>1599.0</td>\n",
       "      <td>10.422983</td>\n",
       "      <td>1.065668</td>\n",
       "      <td>8.40000</td>\n",
       "      <td>9.5000</td>\n",
       "      <td>10.20000</td>\n",
       "      <td>11.100000</td>\n",
       "      <td>14.90000</td>\n",
       "      <td>1.135647</td>\n",
       "      <td>0.860829</td>\n",
       "      <td>0.200029</td>\n",
       "    </tr>\n",
       "    <tr>\n",
       "      <th>quality</th>\n",
       "      <td>1599.0</td>\n",
       "      <td>5.636023</td>\n",
       "      <td>0.807569</td>\n",
       "      <td>3.00000</td>\n",
       "      <td>5.0000</td>\n",
       "      <td>6.00000</td>\n",
       "      <td>6.000000</td>\n",
       "      <td>8.00000</td>\n",
       "      <td>0.652168</td>\n",
       "      <td>0.217802</td>\n",
       "      <td>0.296708</td>\n",
       "    </tr>\n",
       "  </tbody>\n",
       "</table>\n",
       "</div>"
      ],
      "text/plain": [
       "                       count       mean        std      min      25%  \\\n",
       "fixed acidity         1599.0   8.319637   1.741096  4.60000   7.1000   \n",
       "volatile acidity      1599.0   0.527821   0.179060  0.12000   0.3900   \n",
       "citric acid           1599.0   0.270976   0.194801  0.00000   0.0900   \n",
       "residual sugar        1599.0   2.538806   1.409928  0.90000   1.9000   \n",
       "chlorides             1599.0   0.087467   0.047065  0.01200   0.0700   \n",
       "free sulfur dioxide   1599.0  15.874922  10.460157  1.00000   7.0000   \n",
       "total sulfur dioxide  1599.0  46.467792  32.895324  6.00000  22.0000   \n",
       "density               1599.0   0.996747   0.001887  0.99007   0.9956   \n",
       "pH                    1599.0   3.311113   0.154386  2.74000   3.2100   \n",
       "sulphates             1599.0   0.658149   0.169507  0.33000   0.5500   \n",
       "alcohol               1599.0  10.422983   1.065668  8.40000   9.5000   \n",
       "quality               1599.0   5.636023   0.807569  3.00000   5.0000   \n",
       "\n",
       "                           50%        75%        max     variance  skewness  \\\n",
       "fixed acidity          7.90000   9.200000   15.90000     3.031416  0.982751   \n",
       "volatile acidity       0.52000   0.640000    1.58000     0.032062  0.671593   \n",
       "citric acid            0.26000   0.420000    1.00000     0.037947  0.318337   \n",
       "residual sugar         2.20000   2.600000   15.50000     1.987897  4.540655   \n",
       "chlorides              0.07900   0.090000    0.61100     0.002215  5.680347   \n",
       "free sulfur dioxide   14.00000  21.000000   72.00000   109.414884  1.250567   \n",
       "total sulfur dioxide  38.00000  62.000000  289.00000  1082.102373  1.515531   \n",
       "density                0.99675   0.997835    1.00369     0.000004  0.071288   \n",
       "pH                     3.31000   3.400000    4.01000     0.023835  0.193683   \n",
       "sulphates              0.62000   0.730000    2.00000     0.028733  2.428672   \n",
       "alcohol               10.20000  11.100000   14.90000     1.135647  0.860829   \n",
       "quality                6.00000   6.000000    8.00000     0.652168  0.217802   \n",
       "\n",
       "                       kurtosis  \n",
       "fixed acidity          1.132143  \n",
       "volatile acidity       1.225542  \n",
       "citric acid           -0.788998  \n",
       "residual sugar        28.617595  \n",
       "chlorides             41.715787  \n",
       "free sulfur dioxide    2.023562  \n",
       "total sulfur dioxide   3.809824  \n",
       "density                0.934079  \n",
       "pH                     0.806943  \n",
       "sulphates             11.720251  \n",
       "alcohol                0.200029  \n",
       "quality                0.296708  "
      ]
     },
     "execution_count": 8,
     "metadata": {},
     "output_type": "execute_result"
    }
   ],
   "source": [
    "dscs = data.describe().T\n",
    "variances=pd.DataFrame(data.var()).rename(columns={0: \"variance\"})\n",
    "skewness=pd.DataFrame(data.skew()).rename(columns={0: \"skewness\"})\n",
    "kurtosiss=pd.DataFrame(data.kurtosis()).rename(columns={0: \"kurtosis\"})\n",
    "descriptive_statistics=pd.concat([dscs,variances,skewness,kurtosiss], axis=1)\n",
    "descriptive_statistics"
   ]
  },
  {
   "cell_type": "code",
   "execution_count": 9,
   "id": "fe2f8400",
   "metadata": {
    "execution": {
     "iopub.execute_input": "2021-08-17T21:59:16.696377Z",
     "iopub.status.busy": "2021-08-17T21:59:16.695767Z",
     "iopub.status.idle": "2021-08-17T21:59:16.720156Z",
     "shell.execute_reply": "2021-08-17T21:59:16.720677Z",
     "shell.execute_reply.started": "2021-08-17T20:44:04.862334Z"
    },
    "papermill": {
     "duration": 0.104582,
     "end_time": "2021-08-17T21:59:16.720826",
     "exception": false,
     "start_time": "2021-08-17T21:59:16.616244",
     "status": "completed"
    },
    "tags": []
   },
   "outputs": [
    {
     "data": {
      "text/html": [
       "<div>\n",
       "<style scoped>\n",
       "    .dataframe tbody tr th:only-of-type {\n",
       "        vertical-align: middle;\n",
       "    }\n",
       "\n",
       "    .dataframe tbody tr th {\n",
       "        vertical-align: top;\n",
       "    }\n",
       "\n",
       "    .dataframe thead th {\n",
       "        text-align: right;\n",
       "    }\n",
       "</style>\n",
       "<table border=\"1\" class=\"dataframe\">\n",
       "  <thead>\n",
       "    <tr style=\"text-align: right;\">\n",
       "      <th></th>\n",
       "      <th>fixed acidity</th>\n",
       "      <th>volatile acidity</th>\n",
       "      <th>citric acid</th>\n",
       "      <th>residual sugar</th>\n",
       "      <th>chlorides</th>\n",
       "      <th>free sulfur dioxide</th>\n",
       "      <th>total sulfur dioxide</th>\n",
       "      <th>density</th>\n",
       "      <th>pH</th>\n",
       "      <th>sulphates</th>\n",
       "      <th>alcohol</th>\n",
       "      <th>quality</th>\n",
       "    </tr>\n",
       "  </thead>\n",
       "  <tbody>\n",
       "    <tr>\n",
       "      <th>fixed acidity</th>\n",
       "      <td>3.031416</td>\n",
       "      <td>-0.079851</td>\n",
       "      <td>0.227820</td>\n",
       "      <td>0.281756</td>\n",
       "      <td>0.007679</td>\n",
       "      <td>-2.800921</td>\n",
       "      <td>-6.482346</td>\n",
       "      <td>0.002195</td>\n",
       "      <td>-0.183586</td>\n",
       "      <td>0.054010</td>\n",
       "      <td>-0.114421</td>\n",
       "      <td>0.174424</td>\n",
       "    </tr>\n",
       "    <tr>\n",
       "      <th>volatile acidity</th>\n",
       "      <td>-0.079851</td>\n",
       "      <td>0.032062</td>\n",
       "      <td>-0.019272</td>\n",
       "      <td>0.000484</td>\n",
       "      <td>0.000517</td>\n",
       "      <td>-0.019674</td>\n",
       "      <td>0.450426</td>\n",
       "      <td>0.000007</td>\n",
       "      <td>0.006495</td>\n",
       "      <td>-0.007921</td>\n",
       "      <td>-0.038600</td>\n",
       "      <td>-0.056476</td>\n",
       "    </tr>\n",
       "    <tr>\n",
       "      <th>citric acid</th>\n",
       "      <td>0.227820</td>\n",
       "      <td>-0.019272</td>\n",
       "      <td>0.037947</td>\n",
       "      <td>0.039434</td>\n",
       "      <td>0.001869</td>\n",
       "      <td>-0.124252</td>\n",
       "      <td>0.227697</td>\n",
       "      <td>0.000134</td>\n",
       "      <td>-0.016298</td>\n",
       "      <td>0.010328</td>\n",
       "      <td>0.022815</td>\n",
       "      <td>0.035612</td>\n",
       "    </tr>\n",
       "    <tr>\n",
       "      <th>residual sugar</th>\n",
       "      <td>0.281756</td>\n",
       "      <td>0.000484</td>\n",
       "      <td>0.039434</td>\n",
       "      <td>1.987897</td>\n",
       "      <td>0.003690</td>\n",
       "      <td>2.758611</td>\n",
       "      <td>9.416441</td>\n",
       "      <td>0.000945</td>\n",
       "      <td>-0.018644</td>\n",
       "      <td>0.001321</td>\n",
       "      <td>0.063219</td>\n",
       "      <td>0.015635</td>\n",
       "    </tr>\n",
       "    <tr>\n",
       "      <th>chlorides</th>\n",
       "      <td>0.007679</td>\n",
       "      <td>0.000517</td>\n",
       "      <td>0.001869</td>\n",
       "      <td>0.003690</td>\n",
       "      <td>0.002215</td>\n",
       "      <td>0.002738</td>\n",
       "      <td>0.073387</td>\n",
       "      <td>0.000018</td>\n",
       "      <td>-0.001926</td>\n",
       "      <td>0.002962</td>\n",
       "      <td>-0.011092</td>\n",
       "      <td>-0.004900</td>\n",
       "    </tr>\n",
       "    <tr>\n",
       "      <th>free sulfur dioxide</th>\n",
       "      <td>-2.800921</td>\n",
       "      <td>-0.019674</td>\n",
       "      <td>-0.124252</td>\n",
       "      <td>2.758611</td>\n",
       "      <td>0.002738</td>\n",
       "      <td>109.414884</td>\n",
       "      <td>229.737521</td>\n",
       "      <td>-0.000433</td>\n",
       "      <td>0.113653</td>\n",
       "      <td>0.091592</td>\n",
       "      <td>-0.773698</td>\n",
       "      <td>-0.427907</td>\n",
       "    </tr>\n",
       "    <tr>\n",
       "      <th>total sulfur dioxide</th>\n",
       "      <td>-6.482346</td>\n",
       "      <td>0.450426</td>\n",
       "      <td>0.227697</td>\n",
       "      <td>9.416441</td>\n",
       "      <td>0.073387</td>\n",
       "      <td>229.737521</td>\n",
       "      <td>1082.102373</td>\n",
       "      <td>0.004425</td>\n",
       "      <td>-0.337699</td>\n",
       "      <td>0.239471</td>\n",
       "      <td>-7.209298</td>\n",
       "      <td>-4.917237</td>\n",
       "    </tr>\n",
       "    <tr>\n",
       "      <th>density</th>\n",
       "      <td>0.002195</td>\n",
       "      <td>0.000007</td>\n",
       "      <td>0.000134</td>\n",
       "      <td>0.000945</td>\n",
       "      <td>0.000018</td>\n",
       "      <td>-0.000433</td>\n",
       "      <td>0.004425</td>\n",
       "      <td>0.000004</td>\n",
       "      <td>-0.000100</td>\n",
       "      <td>0.000048</td>\n",
       "      <td>-0.000998</td>\n",
       "      <td>-0.000267</td>\n",
       "    </tr>\n",
       "    <tr>\n",
       "      <th>pH</th>\n",
       "      <td>-0.183586</td>\n",
       "      <td>0.006495</td>\n",
       "      <td>-0.016298</td>\n",
       "      <td>-0.018644</td>\n",
       "      <td>-0.001926</td>\n",
       "      <td>0.113653</td>\n",
       "      <td>-0.337699</td>\n",
       "      <td>-0.000100</td>\n",
       "      <td>0.023835</td>\n",
       "      <td>-0.005146</td>\n",
       "      <td>0.033832</td>\n",
       "      <td>-0.007198</td>\n",
       "    </tr>\n",
       "    <tr>\n",
       "      <th>sulphates</th>\n",
       "      <td>0.054010</td>\n",
       "      <td>-0.007921</td>\n",
       "      <td>0.010328</td>\n",
       "      <td>0.001321</td>\n",
       "      <td>0.002962</td>\n",
       "      <td>0.091592</td>\n",
       "      <td>0.239471</td>\n",
       "      <td>0.000048</td>\n",
       "      <td>-0.005146</td>\n",
       "      <td>0.028733</td>\n",
       "      <td>0.016907</td>\n",
       "      <td>0.034413</td>\n",
       "    </tr>\n",
       "    <tr>\n",
       "      <th>alcohol</th>\n",
       "      <td>-0.114421</td>\n",
       "      <td>-0.038600</td>\n",
       "      <td>0.022815</td>\n",
       "      <td>0.063219</td>\n",
       "      <td>-0.011092</td>\n",
       "      <td>-0.773698</td>\n",
       "      <td>-7.209298</td>\n",
       "      <td>-0.000998</td>\n",
       "      <td>0.033832</td>\n",
       "      <td>0.016907</td>\n",
       "      <td>1.135647</td>\n",
       "      <td>0.409789</td>\n",
       "    </tr>\n",
       "    <tr>\n",
       "      <th>quality</th>\n",
       "      <td>0.174424</td>\n",
       "      <td>-0.056476</td>\n",
       "      <td>0.035612</td>\n",
       "      <td>0.015635</td>\n",
       "      <td>-0.004900</td>\n",
       "      <td>-0.427907</td>\n",
       "      <td>-4.917237</td>\n",
       "      <td>-0.000267</td>\n",
       "      <td>-0.007198</td>\n",
       "      <td>0.034413</td>\n",
       "      <td>0.409789</td>\n",
       "      <td>0.652168</td>\n",
       "    </tr>\n",
       "  </tbody>\n",
       "</table>\n",
       "</div>"
      ],
      "text/plain": [
       "                      fixed acidity  volatile acidity  citric acid  \\\n",
       "fixed acidity              3.031416         -0.079851     0.227820   \n",
       "volatile acidity          -0.079851          0.032062    -0.019272   \n",
       "citric acid                0.227820         -0.019272     0.037947   \n",
       "residual sugar             0.281756          0.000484     0.039434   \n",
       "chlorides                  0.007679          0.000517     0.001869   \n",
       "free sulfur dioxide       -2.800921         -0.019674    -0.124252   \n",
       "total sulfur dioxide      -6.482346          0.450426     0.227697   \n",
       "density                    0.002195          0.000007     0.000134   \n",
       "pH                        -0.183586          0.006495    -0.016298   \n",
       "sulphates                  0.054010         -0.007921     0.010328   \n",
       "alcohol                   -0.114421         -0.038600     0.022815   \n",
       "quality                    0.174424         -0.056476     0.035612   \n",
       "\n",
       "                      residual sugar  chlorides  free sulfur dioxide  \\\n",
       "fixed acidity               0.281756   0.007679            -2.800921   \n",
       "volatile acidity            0.000484   0.000517            -0.019674   \n",
       "citric acid                 0.039434   0.001869            -0.124252   \n",
       "residual sugar              1.987897   0.003690             2.758611   \n",
       "chlorides                   0.003690   0.002215             0.002738   \n",
       "free sulfur dioxide         2.758611   0.002738           109.414884   \n",
       "total sulfur dioxide        9.416441   0.073387           229.737521   \n",
       "density                     0.000945   0.000018            -0.000433   \n",
       "pH                         -0.018644  -0.001926             0.113653   \n",
       "sulphates                   0.001321   0.002962             0.091592   \n",
       "alcohol                     0.063219  -0.011092            -0.773698   \n",
       "quality                     0.015635  -0.004900            -0.427907   \n",
       "\n",
       "                      total sulfur dioxide   density        pH  sulphates  \\\n",
       "fixed acidity                    -6.482346  0.002195 -0.183586   0.054010   \n",
       "volatile acidity                  0.450426  0.000007  0.006495  -0.007921   \n",
       "citric acid                       0.227697  0.000134 -0.016298   0.010328   \n",
       "residual sugar                    9.416441  0.000945 -0.018644   0.001321   \n",
       "chlorides                         0.073387  0.000018 -0.001926   0.002962   \n",
       "free sulfur dioxide             229.737521 -0.000433  0.113653   0.091592   \n",
       "total sulfur dioxide           1082.102373  0.004425 -0.337699   0.239471   \n",
       "density                           0.004425  0.000004 -0.000100   0.000048   \n",
       "pH                               -0.337699 -0.000100  0.023835  -0.005146   \n",
       "sulphates                         0.239471  0.000048 -0.005146   0.028733   \n",
       "alcohol                          -7.209298 -0.000998  0.033832   0.016907   \n",
       "quality                          -4.917237 -0.000267 -0.007198   0.034413   \n",
       "\n",
       "                       alcohol   quality  \n",
       "fixed acidity        -0.114421  0.174424  \n",
       "volatile acidity     -0.038600 -0.056476  \n",
       "citric acid           0.022815  0.035612  \n",
       "residual sugar        0.063219  0.015635  \n",
       "chlorides            -0.011092 -0.004900  \n",
       "free sulfur dioxide  -0.773698 -0.427907  \n",
       "total sulfur dioxide -7.209298 -4.917237  \n",
       "density              -0.000998 -0.000267  \n",
       "pH                    0.033832 -0.007198  \n",
       "sulphates             0.016907  0.034413  \n",
       "alcohol               1.135647  0.409789  \n",
       "quality               0.409789  0.652168  "
      ]
     },
     "execution_count": 9,
     "metadata": {},
     "output_type": "execute_result"
    }
   ],
   "source": [
    "data.cov()"
   ]
  },
  {
   "cell_type": "code",
   "execution_count": 10,
   "id": "2df1ebd4",
   "metadata": {
    "execution": {
     "iopub.execute_input": "2021-08-17T21:59:16.888752Z",
     "iopub.status.busy": "2021-08-17T21:59:16.878824Z",
     "iopub.status.idle": "2021-08-17T21:59:16.904431Z",
     "shell.execute_reply": "2021-08-17T21:59:16.904026Z",
     "shell.execute_reply.started": "2021-08-17T20:44:15.708666Z"
    },
    "papermill": {
     "duration": 0.106281,
     "end_time": "2021-08-17T21:59:16.904555",
     "exception": false,
     "start_time": "2021-08-17T21:59:16.798274",
     "status": "completed"
    },
    "tags": []
   },
   "outputs": [
    {
     "data": {
      "text/html": [
       "<div>\n",
       "<style scoped>\n",
       "    .dataframe tbody tr th:only-of-type {\n",
       "        vertical-align: middle;\n",
       "    }\n",
       "\n",
       "    .dataframe tbody tr th {\n",
       "        vertical-align: top;\n",
       "    }\n",
       "\n",
       "    .dataframe thead th {\n",
       "        text-align: right;\n",
       "    }\n",
       "</style>\n",
       "<table border=\"1\" class=\"dataframe\">\n",
       "  <thead>\n",
       "    <tr style=\"text-align: right;\">\n",
       "      <th></th>\n",
       "      <th>fixed acidity</th>\n",
       "      <th>volatile acidity</th>\n",
       "      <th>citric acid</th>\n",
       "      <th>residual sugar</th>\n",
       "      <th>chlorides</th>\n",
       "      <th>free sulfur dioxide</th>\n",
       "      <th>total sulfur dioxide</th>\n",
       "      <th>density</th>\n",
       "      <th>pH</th>\n",
       "      <th>sulphates</th>\n",
       "      <th>alcohol</th>\n",
       "      <th>quality</th>\n",
       "    </tr>\n",
       "  </thead>\n",
       "  <tbody>\n",
       "    <tr>\n",
       "      <th>fixed acidity</th>\n",
       "      <td>1.000000</td>\n",
       "      <td>-0.256131</td>\n",
       "      <td>0.671703</td>\n",
       "      <td>0.114777</td>\n",
       "      <td>0.093705</td>\n",
       "      <td>-0.153794</td>\n",
       "      <td>-0.113181</td>\n",
       "      <td>0.668047</td>\n",
       "      <td>-0.682978</td>\n",
       "      <td>0.183006</td>\n",
       "      <td>-0.061668</td>\n",
       "      <td>0.124052</td>\n",
       "    </tr>\n",
       "    <tr>\n",
       "      <th>volatile acidity</th>\n",
       "      <td>-0.256131</td>\n",
       "      <td>1.000000</td>\n",
       "      <td>-0.552496</td>\n",
       "      <td>0.001918</td>\n",
       "      <td>0.061298</td>\n",
       "      <td>-0.010504</td>\n",
       "      <td>0.076470</td>\n",
       "      <td>0.022026</td>\n",
       "      <td>0.234937</td>\n",
       "      <td>-0.260987</td>\n",
       "      <td>-0.202288</td>\n",
       "      <td>-0.390558</td>\n",
       "    </tr>\n",
       "    <tr>\n",
       "      <th>citric acid</th>\n",
       "      <td>0.671703</td>\n",
       "      <td>-0.552496</td>\n",
       "      <td>1.000000</td>\n",
       "      <td>0.143577</td>\n",
       "      <td>0.203823</td>\n",
       "      <td>-0.060978</td>\n",
       "      <td>0.035533</td>\n",
       "      <td>0.364947</td>\n",
       "      <td>-0.541904</td>\n",
       "      <td>0.312770</td>\n",
       "      <td>0.109903</td>\n",
       "      <td>0.226373</td>\n",
       "    </tr>\n",
       "    <tr>\n",
       "      <th>residual sugar</th>\n",
       "      <td>0.114777</td>\n",
       "      <td>0.001918</td>\n",
       "      <td>0.143577</td>\n",
       "      <td>1.000000</td>\n",
       "      <td>0.055610</td>\n",
       "      <td>0.187049</td>\n",
       "      <td>0.203028</td>\n",
       "      <td>0.355283</td>\n",
       "      <td>-0.085652</td>\n",
       "      <td>0.005527</td>\n",
       "      <td>0.042075</td>\n",
       "      <td>0.013732</td>\n",
       "    </tr>\n",
       "    <tr>\n",
       "      <th>chlorides</th>\n",
       "      <td>0.093705</td>\n",
       "      <td>0.061298</td>\n",
       "      <td>0.203823</td>\n",
       "      <td>0.055610</td>\n",
       "      <td>1.000000</td>\n",
       "      <td>0.005562</td>\n",
       "      <td>0.047400</td>\n",
       "      <td>0.200632</td>\n",
       "      <td>-0.265026</td>\n",
       "      <td>0.371260</td>\n",
       "      <td>-0.221141</td>\n",
       "      <td>-0.128907</td>\n",
       "    </tr>\n",
       "    <tr>\n",
       "      <th>free sulfur dioxide</th>\n",
       "      <td>-0.153794</td>\n",
       "      <td>-0.010504</td>\n",
       "      <td>-0.060978</td>\n",
       "      <td>0.187049</td>\n",
       "      <td>0.005562</td>\n",
       "      <td>1.000000</td>\n",
       "      <td>0.667666</td>\n",
       "      <td>-0.021946</td>\n",
       "      <td>0.070377</td>\n",
       "      <td>0.051658</td>\n",
       "      <td>-0.069408</td>\n",
       "      <td>-0.050656</td>\n",
       "    </tr>\n",
       "    <tr>\n",
       "      <th>total sulfur dioxide</th>\n",
       "      <td>-0.113181</td>\n",
       "      <td>0.076470</td>\n",
       "      <td>0.035533</td>\n",
       "      <td>0.203028</td>\n",
       "      <td>0.047400</td>\n",
       "      <td>0.667666</td>\n",
       "      <td>1.000000</td>\n",
       "      <td>0.071269</td>\n",
       "      <td>-0.066495</td>\n",
       "      <td>0.042947</td>\n",
       "      <td>-0.205654</td>\n",
       "      <td>-0.185100</td>\n",
       "    </tr>\n",
       "    <tr>\n",
       "      <th>density</th>\n",
       "      <td>0.668047</td>\n",
       "      <td>0.022026</td>\n",
       "      <td>0.364947</td>\n",
       "      <td>0.355283</td>\n",
       "      <td>0.200632</td>\n",
       "      <td>-0.021946</td>\n",
       "      <td>0.071269</td>\n",
       "      <td>1.000000</td>\n",
       "      <td>-0.341699</td>\n",
       "      <td>0.148506</td>\n",
       "      <td>-0.496180</td>\n",
       "      <td>-0.174919</td>\n",
       "    </tr>\n",
       "    <tr>\n",
       "      <th>pH</th>\n",
       "      <td>-0.682978</td>\n",
       "      <td>0.234937</td>\n",
       "      <td>-0.541904</td>\n",
       "      <td>-0.085652</td>\n",
       "      <td>-0.265026</td>\n",
       "      <td>0.070377</td>\n",
       "      <td>-0.066495</td>\n",
       "      <td>-0.341699</td>\n",
       "      <td>1.000000</td>\n",
       "      <td>-0.196648</td>\n",
       "      <td>0.205633</td>\n",
       "      <td>-0.057731</td>\n",
       "    </tr>\n",
       "    <tr>\n",
       "      <th>sulphates</th>\n",
       "      <td>0.183006</td>\n",
       "      <td>-0.260987</td>\n",
       "      <td>0.312770</td>\n",
       "      <td>0.005527</td>\n",
       "      <td>0.371260</td>\n",
       "      <td>0.051658</td>\n",
       "      <td>0.042947</td>\n",
       "      <td>0.148506</td>\n",
       "      <td>-0.196648</td>\n",
       "      <td>1.000000</td>\n",
       "      <td>0.093595</td>\n",
       "      <td>0.251397</td>\n",
       "    </tr>\n",
       "    <tr>\n",
       "      <th>alcohol</th>\n",
       "      <td>-0.061668</td>\n",
       "      <td>-0.202288</td>\n",
       "      <td>0.109903</td>\n",
       "      <td>0.042075</td>\n",
       "      <td>-0.221141</td>\n",
       "      <td>-0.069408</td>\n",
       "      <td>-0.205654</td>\n",
       "      <td>-0.496180</td>\n",
       "      <td>0.205633</td>\n",
       "      <td>0.093595</td>\n",
       "      <td>1.000000</td>\n",
       "      <td>0.476166</td>\n",
       "    </tr>\n",
       "    <tr>\n",
       "      <th>quality</th>\n",
       "      <td>0.124052</td>\n",
       "      <td>-0.390558</td>\n",
       "      <td>0.226373</td>\n",
       "      <td>0.013732</td>\n",
       "      <td>-0.128907</td>\n",
       "      <td>-0.050656</td>\n",
       "      <td>-0.185100</td>\n",
       "      <td>-0.174919</td>\n",
       "      <td>-0.057731</td>\n",
       "      <td>0.251397</td>\n",
       "      <td>0.476166</td>\n",
       "      <td>1.000000</td>\n",
       "    </tr>\n",
       "  </tbody>\n",
       "</table>\n",
       "</div>"
      ],
      "text/plain": [
       "                      fixed acidity  volatile acidity  citric acid  \\\n",
       "fixed acidity              1.000000         -0.256131     0.671703   \n",
       "volatile acidity          -0.256131          1.000000    -0.552496   \n",
       "citric acid                0.671703         -0.552496     1.000000   \n",
       "residual sugar             0.114777          0.001918     0.143577   \n",
       "chlorides                  0.093705          0.061298     0.203823   \n",
       "free sulfur dioxide       -0.153794         -0.010504    -0.060978   \n",
       "total sulfur dioxide      -0.113181          0.076470     0.035533   \n",
       "density                    0.668047          0.022026     0.364947   \n",
       "pH                        -0.682978          0.234937    -0.541904   \n",
       "sulphates                  0.183006         -0.260987     0.312770   \n",
       "alcohol                   -0.061668         -0.202288     0.109903   \n",
       "quality                    0.124052         -0.390558     0.226373   \n",
       "\n",
       "                      residual sugar  chlorides  free sulfur dioxide  \\\n",
       "fixed acidity               0.114777   0.093705            -0.153794   \n",
       "volatile acidity            0.001918   0.061298            -0.010504   \n",
       "citric acid                 0.143577   0.203823            -0.060978   \n",
       "residual sugar              1.000000   0.055610             0.187049   \n",
       "chlorides                   0.055610   1.000000             0.005562   \n",
       "free sulfur dioxide         0.187049   0.005562             1.000000   \n",
       "total sulfur dioxide        0.203028   0.047400             0.667666   \n",
       "density                     0.355283   0.200632            -0.021946   \n",
       "pH                         -0.085652  -0.265026             0.070377   \n",
       "sulphates                   0.005527   0.371260             0.051658   \n",
       "alcohol                     0.042075  -0.221141            -0.069408   \n",
       "quality                     0.013732  -0.128907            -0.050656   \n",
       "\n",
       "                      total sulfur dioxide   density        pH  sulphates  \\\n",
       "fixed acidity                    -0.113181  0.668047 -0.682978   0.183006   \n",
       "volatile acidity                  0.076470  0.022026  0.234937  -0.260987   \n",
       "citric acid                       0.035533  0.364947 -0.541904   0.312770   \n",
       "residual sugar                    0.203028  0.355283 -0.085652   0.005527   \n",
       "chlorides                         0.047400  0.200632 -0.265026   0.371260   \n",
       "free sulfur dioxide               0.667666 -0.021946  0.070377   0.051658   \n",
       "total sulfur dioxide              1.000000  0.071269 -0.066495   0.042947   \n",
       "density                           0.071269  1.000000 -0.341699   0.148506   \n",
       "pH                               -0.066495 -0.341699  1.000000  -0.196648   \n",
       "sulphates                         0.042947  0.148506 -0.196648   1.000000   \n",
       "alcohol                          -0.205654 -0.496180  0.205633   0.093595   \n",
       "quality                          -0.185100 -0.174919 -0.057731   0.251397   \n",
       "\n",
       "                       alcohol   quality  \n",
       "fixed acidity        -0.061668  0.124052  \n",
       "volatile acidity     -0.202288 -0.390558  \n",
       "citric acid           0.109903  0.226373  \n",
       "residual sugar        0.042075  0.013732  \n",
       "chlorides            -0.221141 -0.128907  \n",
       "free sulfur dioxide  -0.069408 -0.050656  \n",
       "total sulfur dioxide -0.205654 -0.185100  \n",
       "density              -0.496180 -0.174919  \n",
       "pH                    0.205633 -0.057731  \n",
       "sulphates             0.093595  0.251397  \n",
       "alcohol               1.000000  0.476166  \n",
       "quality               0.476166  1.000000  "
      ]
     },
     "execution_count": 10,
     "metadata": {},
     "output_type": "execute_result"
    }
   ],
   "source": [
    "data.corr()"
   ]
  },
  {
   "cell_type": "code",
   "execution_count": 11,
   "id": "33cd0b79",
   "metadata": {
    "execution": {
     "iopub.execute_input": "2021-08-17T21:59:17.011990Z",
     "iopub.status.busy": "2021-08-17T21:59:17.011323Z",
     "iopub.status.idle": "2021-08-17T21:59:18.199655Z",
     "shell.execute_reply": "2021-08-17T21:59:18.198910Z",
     "shell.execute_reply.started": "2021-08-17T20:44:32.779872Z"
    },
    "papermill": {
     "duration": 1.24461,
     "end_time": "2021-08-17T21:59:18.199761",
     "exception": false,
     "start_time": "2021-08-17T21:59:16.955151",
     "status": "completed"
    },
    "tags": []
   },
   "outputs": [
    {
     "data": {
      "text/plain": [
       "<AxesSubplot:>"
      ]
     },
     "execution_count": 11,
     "metadata": {},
     "output_type": "execute_result"
    },
    {
     "data": {
      "image/png": "[encoded data removed]",
      "text/plain": [
       "<Figure size 720x720 with 2 Axes>"
      ]
     },
     "metadata": {
      "needs_background": "light"
     },
     "output_type": "display_data"
    }
   ],
   "source": [
    "plt.figure(figsize=(10,10))\n",
    "sns.heatmap(data.corr() , annot=True , cmap=\"coolwarm\")"
   ]
  },
  {
   "cell_type": "code",
   "execution_count": 12,
   "id": "345d6570",
   "metadata": {
    "execution": {
     "iopub.execute_input": "2021-08-17T21:59:18.320254Z",
     "iopub.status.busy": "2021-08-17T21:59:18.319790Z",
     "iopub.status.idle": "2021-08-17T21:59:18.794346Z",
     "shell.execute_reply": "2021-08-17T21:59:18.793944Z",
     "shell.execute_reply.started": "2021-08-17T20:45:03.919171Z"
    },
    "papermill": {
     "duration": 0.541069,
     "end_time": "2021-08-17T21:59:18.794472",
     "exception": false,
     "start_time": "2021-08-17T21:59:18.253403",
     "status": "completed"
    },
    "tags": []
   },
   "outputs": [
    {
     "data": {
      "text/plain": [
       "<seaborn.axisgrid.FacetGrid at 0x7f3e15e4d210>"
      ]
     },
     "execution_count": 12,
     "metadata": {},
     "output_type": "execute_result"
    },
    {
     "data": {
      "image/png": "[encoded data removed]",
      "text/plain": [
       "<Figure size 360x360 with 1 Axes>"
      ]
     },
     "metadata": {
      "needs_background": "light"
     },
     "output_type": "display_data"
    }
   ],
   "source": [
    "sns.displot(x='fixed acidity' , data=data , kde=True)"
   ]
  },
  {
   "cell_type": "code",
   "execution_count": 13,
   "id": "4d667c3d",
   "metadata": {
    "execution": {
     "iopub.execute_input": "2021-08-17T21:59:18.914404Z",
     "iopub.status.busy": "2021-08-17T21:59:18.910045Z",
     "iopub.status.idle": "2021-08-17T21:59:19.265216Z",
     "shell.execute_reply": "2021-08-17T21:59:19.265661Z",
     "shell.execute_reply.started": "2021-08-17T20:45:16.324554Z"
    },
    "papermill": {
     "duration": 0.41633,
     "end_time": "2021-08-17T21:59:19.265793",
     "exception": false,
     "start_time": "2021-08-17T21:59:18.849463",
     "status": "completed"
    },
    "tags": []
   },
   "outputs": [
    {
     "data": {
      "text/plain": [
       "<seaborn.axisgrid.FacetGrid at 0x7f3e140a34d0>"
      ]
     },
     "execution_count": 13,
     "metadata": {},
     "output_type": "execute_result"
    },
    {
     "data": {
      "image/png": "[encoded data removed]",
      "text/plain": [
       "<Figure size 360x360 with 1 Axes>"
      ]
     },
     "metadata": {
      "needs_background": "light"
     },
     "output_type": "display_data"
    }
   ],
   "source": [
    "sns.displot(x='volatile acidity' , data=data , kde=True)"
   ]
  },
  {
   "cell_type": "code",
   "execution_count": 14,
   "id": "7e5b7cbc",
   "metadata": {
    "execution": {
     "iopub.execute_input": "2021-08-17T21:59:19.388285Z",
     "iopub.status.busy": "2021-08-17T21:59:19.387461Z",
     "iopub.status.idle": "2021-08-17T21:59:19.663309Z",
     "shell.execute_reply": "2021-08-17T21:59:19.663703Z",
     "shell.execute_reply.started": "2021-08-17T20:45:26.919789Z"
    },
    "papermill": {
     "duration": 0.341989,
     "end_time": "2021-08-17T21:59:19.663840",
     "exception": false,
     "start_time": "2021-08-17T21:59:19.321851",
     "status": "completed"
    },
    "tags": []
   },
   "outputs": [
    {
     "data": {
      "text/plain": [
       "<seaborn.axisgrid.FacetGrid at 0x7f3dfebeadd0>"
      ]
     },
     "execution_count": 14,
     "metadata": {},
     "output_type": "execute_result"
    },
    {
     "data": {
      "image/png": "[encoded data removed]",
      "text/plain": [
       "<Figure size 360x360 with 1 Axes>"
      ]
     },
     "metadata": {
      "needs_background": "light"
     },
     "output_type": "display_data"
    }
   ],
   "source": [
    "sns.displot(x='citric acid' , data=data , kde=True)"
   ]
  },
  {
   "cell_type": "code",
   "execution_count": 15,
   "id": "36eddd0d",
   "metadata": {
    "execution": {
     "iopub.execute_input": "2021-08-17T21:59:19.803196Z",
     "iopub.status.busy": "2021-08-17T21:59:19.802722Z",
     "iopub.status.idle": "2021-08-17T21:59:20.220247Z",
     "shell.execute_reply": "2021-08-17T21:59:20.219875Z",
     "shell.execute_reply.started": "2021-08-17T20:45:37.693192Z"
    },
    "papermill": {
     "duration": 0.499385,
     "end_time": "2021-08-17T21:59:20.220371",
     "exception": false,
     "start_time": "2021-08-17T21:59:19.720986",
     "status": "completed"
    },
    "tags": []
   },
   "outputs": [
    {
     "data": {
      "text/plain": [
       "<seaborn.axisgrid.FacetGrid at 0x7f3dfeb300d0>"
      ]
     },
     "execution_count": 15,
     "metadata": {},
     "output_type": "execute_result"
    },
    {
     "data": {
      "image/png": "[encoded data removed]",
      "text/plain": [
       "<Figure size 360x360 with 1 Axes>"
      ]
     },
     "metadata": {
      "needs_background": "light"
     },
     "output_type": "display_data"
    }
   ],
   "source": [
    "sns.displot(x='residual sugar' , data=data , kde=True)"
   ]
  },
  {
   "cell_type": "code",
   "execution_count": 16,
   "id": "4372ed0c",
   "metadata": {
    "execution": {
     "iopub.execute_input": "2021-08-17T21:59:20.354401Z",
     "iopub.status.busy": "2021-08-17T21:59:20.340843Z",
     "iopub.status.idle": "2021-08-17T21:59:21.005101Z",
     "shell.execute_reply": "2021-08-17T21:59:21.004692Z",
     "shell.execute_reply.started": "2021-08-17T20:45:48.599075Z"
    },
    "papermill": {
     "duration": 0.727411,
     "end_time": "2021-08-17T21:59:21.005211",
     "exception": false,
     "start_time": "2021-08-17T21:59:20.277800",
     "status": "completed"
    },
    "tags": []
   },
   "outputs": [
    {
     "data": {
      "text/plain": [
       "<seaborn.axisgrid.FacetGrid at 0x7f3dfe9c1c10>"
      ]
     },
     "execution_count": 16,
     "metadata": {},
     "output_type": "execute_result"
    },
    {
     "data": {
      "image/png": "[encoded data removed]",
      "text/plain": [
       "<Figure size 360x360 with 1 Axes>"
      ]
     },
     "metadata": {
      "needs_background": "light"
     },
     "output_type": "display_data"
    }
   ],
   "source": [
    "sns.displot(x='chlorides' , data=data , kde=True)"
   ]
  },
  {
   "cell_type": "code",
   "execution_count": 17,
   "id": "74eb4851",
   "metadata": {
    "execution": {
     "iopub.execute_input": "2021-08-17T21:59:21.151509Z",
     "iopub.status.busy": "2021-08-17T21:59:21.151007Z",
     "iopub.status.idle": "2021-08-17T21:59:21.454047Z",
     "shell.execute_reply": "2021-08-17T21:59:21.453586Z",
     "shell.execute_reply.started": "2021-08-17T20:46:00.264986Z"
    },
    "papermill": {
     "duration": 0.390437,
     "end_time": "2021-08-17T21:59:21.454150",
     "exception": false,
     "start_time": "2021-08-17T21:59:21.063713",
     "status": "completed"
    },
    "tags": []
   },
   "outputs": [
    {
     "data": {
      "text/plain": [
       "<seaborn.axisgrid.FacetGrid at 0x7f3dfe76bcd0>"
      ]
     },
     "execution_count": 17,
     "metadata": {},
     "output_type": "execute_result"
    },
    {
     "data": {
      "image/png": "[encoded data removed]",
      "text/plain": [
       "<Figure size 360x360 with 1 Axes>"
      ]
     },
     "metadata": {
      "needs_background": "light"
     },
     "output_type": "display_data"
    }
   ],
   "source": [
    "sns.displot(x='free sulfur dioxide' , data=data , kde=True)"
   ]
  },
  {
   "cell_type": "code",
   "execution_count": 18,
   "id": "ae908c67",
   "metadata": {
    "execution": {
     "iopub.execute_input": "2021-08-17T21:59:21.581421Z",
     "iopub.status.busy": "2021-08-17T21:59:21.580913Z",
     "iopub.status.idle": "2021-08-17T21:59:21.946077Z",
     "shell.execute_reply": "2021-08-17T21:59:21.945585Z",
     "shell.execute_reply.started": "2021-08-17T20:46:11.638162Z"
    },
    "papermill": {
     "duration": 0.432362,
     "end_time": "2021-08-17T21:59:21.946185",
     "exception": false,
     "start_time": "2021-08-17T21:59:21.513823",
     "status": "completed"
    },
    "tags": []
   },
   "outputs": [
    {
     "data": {
      "text/plain": [
       "<seaborn.axisgrid.FacetGrid at 0x7f3dfeb77bd0>"
      ]
     },
     "execution_count": 18,
     "metadata": {},
     "output_type": "execute_result"
    },
    {
     "data": {
      "image/png": "[encoded data removed]",
      "text/plain": [
       "<Figure size 360x360 with 1 Axes>"
      ]
     },
     "metadata": {
      "needs_background": "light"
     },
     "output_type": "display_data"
    }
   ],
   "source": [
    "sns.displot(x='total sulfur dioxide' , data=data , kde=True)"
   ]
  },
  {
   "cell_type": "code",
   "execution_count": 19,
   "id": "b89cb4d6",
   "metadata": {
    "execution": {
     "iopub.execute_input": "2021-08-17T21:59:22.093202Z",
     "iopub.status.busy": "2021-08-17T21:59:22.090838Z",
     "iopub.status.idle": "2021-08-17T21:59:22.394762Z",
     "shell.execute_reply": "2021-08-17T21:59:22.395161Z",
     "shell.execute_reply.started": "2021-08-17T20:46:22.895011Z"
    },
    "papermill": {
     "duration": 0.388416,
     "end_time": "2021-08-17T21:59:22.395292",
     "exception": false,
     "start_time": "2021-08-17T21:59:22.006876",
     "status": "completed"
    },
    "tags": []
   },
   "outputs": [
    {
     "data": {
      "text/plain": [
       "<seaborn.axisgrid.FacetGrid at 0x7f3dfe660110>"
      ]
     },
     "execution_count": 19,
     "metadata": {},
     "output_type": "execute_result"
    },
    {
     "data": {
      "image/png": "[encoded data removed]",
      "text/plain": [
       "<Figure size 360x360 with 1 Axes>"
      ]
     },
     "metadata": {
      "needs_background": "light"
     },
     "output_type": "display_data"
    }
   ],
   "source": [
    "sns.displot(x='density' , data=data , kde=True)"
   ]
  },
  {
   "cell_type": "code",
   "execution_count": 20,
   "id": "530485e4",
   "metadata": {
    "execution": {
     "iopub.execute_input": "2021-08-17T21:59:22.540747Z",
     "iopub.status.busy": "2021-08-17T21:59:22.525012Z",
     "iopub.status.idle": "2021-08-17T21:59:22.813734Z",
     "shell.execute_reply": "2021-08-17T21:59:22.814086Z",
     "shell.execute_reply.started": "2021-08-17T20:46:32.391027Z"
    },
    "papermill": {
     "duration": 0.357241,
     "end_time": "2021-08-17T21:59:22.814213",
     "exception": false,
     "start_time": "2021-08-17T21:59:22.456972",
     "status": "completed"
    },
    "tags": []
   },
   "outputs": [
    {
     "data": {
      "text/plain": [
       "<seaborn.axisgrid.FacetGrid at 0x7f3dfe635cd0>"
      ]
     },
     "execution_count": 20,
     "metadata": {},
     "output_type": "execute_result"
    },
    {
     "data": {
      "image/png": "[encoded data removed]",
      "text/plain": [
       "<Figure size 360x360 with 1 Axes>"
      ]
     },
     "metadata": {
      "needs_background": "light"
     },
     "output_type": "display_data"
    }
   ],
   "source": [
    "sns.displot(x='pH' , data=data , kde=True)"
   ]
  },
  {
   "cell_type": "code",
   "execution_count": 21,
   "id": "01dcb664",
   "metadata": {
    "execution": {
     "iopub.execute_input": "2021-08-17T21:59:23.081320Z",
     "iopub.status.busy": "2021-08-17T21:59:23.080841Z",
     "iopub.status.idle": "2021-08-17T21:59:23.373942Z",
     "shell.execute_reply": "2021-08-17T21:59:23.373520Z",
     "shell.execute_reply.started": "2021-08-17T20:46:42.803112Z"
    },
    "papermill": {
     "duration": 0.496059,
     "end_time": "2021-08-17T21:59:23.374121",
     "exception": false,
     "start_time": "2021-08-17T21:59:22.878062",
     "status": "completed"
    },
    "tags": []
   },
   "outputs": [
    {
     "data": {
      "text/plain": [
       "<seaborn.axisgrid.FacetGrid at 0x7f3dfe395250>"
      ]
     },
     "execution_count": 21,
     "metadata": {},
     "output_type": "execute_result"
    },
    {
     "data": {
      "image/png": "[encoded data removed]",
      "text/plain": [
       "<Figure size 360x360 with 1 Axes>"
      ]
     },
     "metadata": {
      "needs_background": "light"
     },
     "output_type": "display_data"
    }
   ],
   "source": [
    "sns.displot(x='sulphates' , data=data , kde=True)"
   ]
  },
  {
   "cell_type": "code",
   "execution_count": 22,
   "id": "e2fcc54a",
   "metadata": {
    "execution": {
     "iopub.execute_input": "2021-08-17T21:59:23.508169Z",
     "iopub.status.busy": "2021-08-17T21:59:23.507579Z",
     "iopub.status.idle": "2021-08-17T21:59:23.752990Z",
     "shell.execute_reply": "2021-08-17T21:59:23.752460Z",
     "shell.execute_reply.started": "2021-08-17T20:47:02.136839Z"
    },
    "papermill": {
     "duration": 0.315728,
     "end_time": "2021-08-17T21:59:23.753120",
     "exception": false,
     "start_time": "2021-08-17T21:59:23.437392",
     "status": "completed"
    },
    "tags": []
   },
   "outputs": [
    {
     "data": {
      "text/plain": [
       "<seaborn.axisgrid.FacetGrid at 0x7f3dfe4b7890>"
      ]
     },
     "execution_count": 22,
     "metadata": {},
     "output_type": "execute_result"
    },
    {
     "data": {
      "image/png": "[encoded data removed]",
      "text/plain": [
       "<Figure size 360x360 with 1 Axes>"
      ]
     },
     "metadata": {
      "needs_background": "light"
     },
     "output_type": "display_data"
    }
   ],
   "source": [
    "sns.displot(x='alcohol' , data=data , kde=True )"
   ]
  },
  {
   "cell_type": "code",
   "execution_count": 23,
   "id": "127e17fd",
   "metadata": {
    "execution": {
     "iopub.execute_input": "2021-08-17T21:59:23.950293Z",
     "iopub.status.busy": "2021-08-17T21:59:23.949689Z",
     "iopub.status.idle": "2021-08-17T21:59:24.192841Z",
     "shell.execute_reply": "2021-08-17T21:59:24.193197Z",
     "shell.execute_reply.started": "2021-08-17T20:47:13.114581Z"
    },
    "papermill": {
     "duration": 0.346183,
     "end_time": "2021-08-17T21:59:24.193342",
     "exception": false,
     "start_time": "2021-08-17T21:59:23.847159",
     "status": "completed"
    },
    "tags": []
   },
   "outputs": [
    {
     "data": {
      "text/plain": [
       "<seaborn.axisgrid.FacetGrid at 0x7f3dfe3b5a50>"
      ]
     },
     "execution_count": 23,
     "metadata": {},
     "output_type": "execute_result"
    },
    {
     "data": {
      "image/png": "[encoded data removed]",
      "text/plain": [
       "<Figure size 360x360 with 1 Axes>"
      ]
     },
     "metadata": {
      "needs_background": "light"
     },
     "output_type": "display_data"
    }
   ],
   "source": [
    "sns.displot(x='quality' , data=data )"
   ]
  },
  {
   "cell_type": "code",
   "execution_count": 24,
   "id": "2de92072",
   "metadata": {
    "execution": {
     "iopub.execute_input": "2021-08-17T21:59:24.327042Z",
     "iopub.status.busy": "2021-08-17T21:59:24.326399Z",
     "iopub.status.idle": "2021-08-17T21:59:24.655483Z",
     "shell.execute_reply": "2021-08-17T21:59:24.654981Z",
     "shell.execute_reply.started": "2021-08-17T20:47:56.758856Z"
    },
    "papermill": {
     "duration": 0.39679,
     "end_time": "2021-08-17T21:59:24.655588",
     "exception": false,
     "start_time": "2021-08-17T21:59:24.258798",
     "status": "completed"
    },
    "tags": []
   },
   "outputs": [
    {
     "data": {
      "text/plain": [
       "<AxesSubplot:xlabel='fixed acidity', ylabel='citric acid'>"
      ]
     },
     "execution_count": 24,
     "metadata": {},
     "output_type": "execute_result"
    },
    {
     "data": {
      "image/png": "[encoded data removed]",
      "text/plain": [
       "<Figure size 432x288 with 1 Axes>"
      ]
     },
     "metadata": {
      "needs_background": "light"
     },
     "output_type": "display_data"
    }
   ],
   "source": [
    "sns.regplot(x=data.sample(150 , random_state=1)[\"fixed acidity\"] , y=data.sample(150 , random_state=1)[\"citric acid\"] , data=data)"
   ]
  },
  {
   "cell_type": "code",
   "execution_count": 25,
   "id": "9cfc340a",
   "metadata": {
    "execution": {
     "iopub.execute_input": "2021-08-17T21:59:24.796900Z",
     "iopub.status.busy": "2021-08-17T21:59:24.796417Z",
     "iopub.status.idle": "2021-08-17T21:59:25.080373Z",
     "shell.execute_reply": "2021-08-17T21:59:25.080760Z",
     "shell.execute_reply.started": "2021-08-17T20:48:07.202998Z"
    },
    "papermill": {
     "duration": 0.359368,
     "end_time": "2021-08-17T21:59:25.080890",
     "exception": false,
     "start_time": "2021-08-17T21:59:24.721522",
     "status": "completed"
    },
    "tags": []
   },
   "outputs": [
    {
     "data": {
      "text/plain": [
       "<AxesSubplot:xlabel='fixed acidity', ylabel='density'>"
      ]
     },
     "execution_count": 25,
     "metadata": {},
     "output_type": "execute_result"
    },
    {
     "data": {
      "image/png": "[encoded data removed]",
      "text/plain": [
       "<Figure size 432x288 with 1 Axes>"
      ]
     },
     "metadata": {
      "needs_background": "light"
     },
     "output_type": "display_data"
    }
   ],
   "source": [
    "sns.regplot(x=data.sample(150 , random_state=1)[\"fixed acidity\"] , y=data.sample(150 , random_state=1)[\"density\"] , data=data)"
   ]
  },
  {
   "cell_type": "code",
   "execution_count": 26,
   "id": "e1e85e60",
   "metadata": {
    "execution": {
     "iopub.execute_input": "2021-08-17T21:59:25.218214Z",
     "iopub.status.busy": "2021-08-17T21:59:25.217735Z",
     "iopub.status.idle": "2021-08-17T21:59:25.526410Z",
     "shell.execute_reply": "2021-08-17T21:59:25.525937Z",
     "shell.execute_reply.started": "2021-08-17T20:48:23.124229Z"
    },
    "papermill": {
     "duration": 0.37847,
     "end_time": "2021-08-17T21:59:25.526519",
     "exception": false,
     "start_time": "2021-08-17T21:59:25.148049",
     "status": "completed"
    },
    "tags": []
   },
   "outputs": [
    {
     "data": {
      "text/plain": [
       "<AxesSubplot:xlabel='fixed acidity', ylabel='pH'>"
      ]
     },
     "execution_count": 26,
     "metadata": {},
     "output_type": "execute_result"
    },
    {
     "data": {
      "image/png": "[encoded data removed]",
      "text/plain": [
       "<Figure size 432x288 with 1 Axes>"
      ]
     },
     "metadata": {
      "needs_background": "light"
     },
     "output_type": "display_data"
    }
   ],
   "source": [
    "sns.regplot(x=data.sample(150 , random_state=1)[\"fixed acidity\"] , y=data.sample(150 , random_state=1)[\"pH\"] , data=data)"
   ]
  },
  {
   "cell_type": "code",
   "execution_count": 27,
   "id": "d21cb8a4",
   "metadata": {
    "execution": {
     "iopub.execute_input": "2021-08-17T21:59:25.663830Z",
     "iopub.status.busy": "2021-08-17T21:59:25.663173Z",
     "iopub.status.idle": "2021-08-17T21:59:25.970116Z",
     "shell.execute_reply": "2021-08-17T21:59:25.970521Z",
     "shell.execute_reply.started": "2021-08-17T20:48:36.65763Z"
    },
    "papermill": {
     "duration": 0.376604,
     "end_time": "2021-08-17T21:59:25.970652",
     "exception": false,
     "start_time": "2021-08-17T21:59:25.594048",
     "status": "completed"
    },
    "tags": []
   },
   "outputs": [
    {
     "data": {
      "text/plain": [
       "<AxesSubplot:xlabel='volatile acidity', ylabel='citric acid'>"
      ]
     },
     "execution_count": 27,
     "metadata": {},
     "output_type": "execute_result"
    },
    {
     "data": {
      "image/png": "[encoded data removed]",
      "text/plain": [
       "<Figure size 432x288 with 1 Axes>"
      ]
     },
     "metadata": {
      "needs_background": "light"
     },
     "output_type": "display_data"
    }
   ],
   "source": [
    "sns.regplot(x=data.sample(150 , random_state=1)[\"volatile acidity\"] , y=data.sample(150 , random_state=1)[\"citric acid\"] , data=data)"
   ]
  },
  {
   "cell_type": "code",
   "execution_count": 28,
   "id": "219d376e",
   "metadata": {
    "execution": {
     "iopub.execute_input": "2021-08-17T21:59:26.137194Z",
     "iopub.status.busy": "2021-08-17T21:59:26.131959Z",
     "iopub.status.idle": "2021-08-17T21:59:26.349694Z",
     "shell.execute_reply": "2021-08-17T21:59:26.349282Z",
     "shell.execute_reply.started": "2021-08-17T20:48:46.842617Z"
    },
    "papermill": {
     "duration": 0.30947,
     "end_time": "2021-08-17T21:59:26.349799",
     "exception": false,
     "start_time": "2021-08-17T21:59:26.040329",
     "status": "completed"
    },
    "tags": []
   },
   "outputs": [
    {
     "data": {
      "text/plain": [
       "<AxesSubplot:xlabel='citric acid', ylabel='pH'>"
      ]
     },
     "execution_count": 28,
     "metadata": {},
     "output_type": "execute_result"
    },
    {
     "data": {
      "image/png": "[encoded data removed]",
      "text/plain": [
       "<Figure size 432x288 with 1 Axes>"
      ]
     },
     "metadata": {
      "needs_background": "light"
     },
     "output_type": "display_data"
    }
   ],
   "source": [
    "sns.regplot(x=data.sample(150 , random_state=1)[\"citric acid\"] , y=data.sample(150 , random_state=1)[\"pH\"] , data=data)"
   ]
  },
  {
   "cell_type": "code",
   "execution_count": 29,
   "id": "426dbcdb",
   "metadata": {
    "execution": {
     "iopub.execute_input": "2021-08-17T21:59:26.511667Z",
     "iopub.status.busy": "2021-08-17T21:59:26.509458Z",
     "iopub.status.idle": "2021-08-17T21:59:26.721144Z",
     "shell.execute_reply": "2021-08-17T21:59:26.720693Z",
     "shell.execute_reply.started": "2021-08-17T20:48:57.362287Z"
    },
    "papermill": {
     "duration": 0.301351,
     "end_time": "2021-08-17T21:59:26.721245",
     "exception": false,
     "start_time": "2021-08-17T21:59:26.419894",
     "status": "completed"
    },
    "tags": []
   },
   "outputs": [
    {
     "data": {
      "text/plain": [
       "<AxesSubplot:xlabel='free sulfur dioxide', ylabel='total sulfur dioxide'>"
      ]
     },
     "execution_count": 29,
     "metadata": {},
     "output_type": "execute_result"
    },
    {
     "data": {
      "image/png": "[encoded data removed]",
      "text/plain": [
       "<Figure size 432x288 with 1 Axes>"
      ]
     },
     "metadata": {
      "needs_background": "light"
     },
     "output_type": "display_data"
    }
   ],
   "source": [
    "sns.regplot(x=data.sample(150 , random_state=1)[\"free sulfur dioxide\"] , y=data.sample(150 , random_state=1)[\"total sulfur dioxide\"] , data=data)"
   ]
  },
  {
   "cell_type": "code",
   "execution_count": 30,
   "id": "fa9fdb60",
   "metadata": {
    "execution": {
     "iopub.execute_input": "2021-08-17T21:59:26.882018Z",
     "iopub.status.busy": "2021-08-17T21:59:26.881513Z",
     "iopub.status.idle": "2021-08-17T21:59:26.961227Z",
     "shell.execute_reply": "2021-08-17T21:59:26.960712Z",
     "shell.execute_reply.started": "2021-08-17T20:49:07.707767Z"
    },
    "papermill": {
     "duration": 0.168436,
     "end_time": "2021-08-17T21:59:26.961343",
     "exception": false,
     "start_time": "2021-08-17T21:59:26.792907",
     "status": "completed"
    },
    "tags": []
   },
   "outputs": [
    {
     "name": "stdout",
     "output_type": "stream",
     "text": [
      "AxesSubplot(0.125,0.125;0.775x0.755)\n"
     ]
    },
    {
     "data": {
      "image/png": "[encoded data removed]",
      "text/plain": [
       "<Figure size 432x288 with 1 Axes>"
      ]
     },
     "metadata": {
      "needs_background": "light"
     },
     "output_type": "display_data"
    }
   ],
   "source": [
    "print(sns.boxplot(x=data['fixed acidity']))"
   ]
  },
  {
   "cell_type": "code",
   "execution_count": 31,
   "id": "d2199996",
   "metadata": {
    "execution": {
     "iopub.execute_input": "2021-08-17T21:59:27.123239Z",
     "iopub.status.busy": "2021-08-17T21:59:27.110708Z",
     "iopub.status.idle": "2021-08-17T21:59:27.216431Z",
     "shell.execute_reply": "2021-08-17T21:59:27.215979Z",
     "shell.execute_reply.started": "2021-08-17T20:49:26.894219Z"
    },
    "papermill": {
     "duration": 0.182111,
     "end_time": "2021-08-17T21:59:27.216543",
     "exception": false,
     "start_time": "2021-08-17T21:59:27.034432",
     "status": "completed"
    },
    "tags": []
   },
   "outputs": [
    {
     "name": "stdout",
     "output_type": "stream",
     "text": [
      "AxesSubplot(0.125,0.125;0.775x0.755)\n"
     ]
    },
    {
     "data": {
      "image/png": "[encoded data removed]",
      "text/plain": [
       "<Figure size 432x288 with 1 Axes>"
      ]
     },
     "metadata": {
      "needs_background": "light"
     },
     "output_type": "display_data"
    }
   ],
   "source": [
    "print(sns.boxplot(x=data['volatile acidity']))\n"
   ]
  },
  {
   "cell_type": "code",
   "execution_count": 32,
   "id": "e2971479",
   "metadata": {
    "execution": {
     "iopub.execute_input": "2021-08-17T21:59:27.364856Z",
     "iopub.status.busy": "2021-08-17T21:59:27.364336Z",
     "iopub.status.idle": "2021-08-17T21:59:27.451324Z",
     "shell.execute_reply": "2021-08-17T21:59:27.451776Z",
     "shell.execute_reply.started": "2021-08-17T20:49:38.391819Z"
    },
    "papermill": {
     "duration": 0.162401,
     "end_time": "2021-08-17T21:59:27.451904",
     "exception": false,
     "start_time": "2021-08-17T21:59:27.289503",
     "status": "completed"
    },
    "tags": []
   },
   "outputs": [
    {
     "name": "stdout",
     "output_type": "stream",
     "text": [
      "AxesSubplot(0.125,0.125;0.775x0.755)\n"
     ]
    },
    {
     "data": {
      "image/png": "[encoded data removed]",
      "text/plain": [
       "<Figure size 432x288 with 1 Axes>"
      ]
     },
     "metadata": {
      "needs_background": "light"
     },
     "output_type": "display_data"
    }
   ],
   "source": [
    "print(sns.boxplot(x=data['citric acid']))\n"
   ]
  },
  {
   "cell_type": "code",
   "execution_count": 33,
   "id": "89587f42",
   "metadata": {
    "execution": {
     "iopub.execute_input": "2021-08-17T21:59:27.599771Z",
     "iopub.status.busy": "2021-08-17T21:59:27.599321Z",
     "iopub.status.idle": "2021-08-17T21:59:27.697731Z",
     "shell.execute_reply": "2021-08-17T21:59:27.698092Z",
     "shell.execute_reply.started": "2021-08-17T20:49:48.497987Z"
    },
    "papermill": {
     "duration": 0.17359,
     "end_time": "2021-08-17T21:59:27.698215",
     "exception": false,
     "start_time": "2021-08-17T21:59:27.524625",
     "status": "completed"
    },
    "tags": []
   },
   "outputs": [
    {
     "name": "stdout",
     "output_type": "stream",
     "text": [
      "AxesSubplot(0.125,0.125;0.775x0.755)\n"
     ]
    },
    {
     "data": {
      "image/png": "[encoded data removed]",
      "text/plain": [
       "<Figure size 432x288 with 1 Axes>"
      ]
     },
     "metadata": {
      "needs_background": "light"
     },
     "output_type": "display_data"
    }
   ],
   "source": [
    "print(sns.boxplot(x=data['residual sugar']))\n"
   ]
  },
  {
   "cell_type": "code",
   "execution_count": 34,
   "id": "acac13d5",
   "metadata": {
    "execution": {
     "iopub.execute_input": "2021-08-17T21:59:27.849001Z",
     "iopub.status.busy": "2021-08-17T21:59:27.848545Z",
     "iopub.status.idle": "2021-08-17T21:59:27.943084Z",
     "shell.execute_reply": "2021-08-17T21:59:27.943603Z",
     "shell.execute_reply.started": "2021-08-17T20:50:04.765628Z"
    },
    "papermill": {
     "duration": 0.17131,
     "end_time": "2021-08-17T21:59:27.943762",
     "exception": false,
     "start_time": "2021-08-17T21:59:27.772452",
     "status": "completed"
    },
    "tags": []
   },
   "outputs": [
    {
     "name": "stdout",
     "output_type": "stream",
     "text": [
      "AxesSubplot(0.125,0.125;0.775x0.755)\n"
     ]
    },
    {
     "data": {
      "image/png": "[encoded data removed]",
      "text/plain": [
       "<Figure size 432x288 with 1 Axes>"
      ]
     },
     "metadata": {
      "needs_background": "light"
     },
     "output_type": "display_data"
    }
   ],
   "source": [
    "print(sns.boxplot(x=data['chlorides']))\n"
   ]
  },
  {
   "cell_type": "code",
   "execution_count": 35,
   "id": "edc9922a",
   "metadata": {
    "execution": {
     "iopub.execute_input": "2021-08-17T21:59:28.113293Z",
     "iopub.status.busy": "2021-08-17T21:59:28.101810Z",
     "iopub.status.idle": "2021-08-17T21:59:28.201636Z",
     "shell.execute_reply": "2021-08-17T21:59:28.201027Z",
     "shell.execute_reply.started": "2021-08-17T20:50:14.724871Z"
    },
    "papermill": {
     "duration": 0.180454,
     "end_time": "2021-08-17T21:59:28.201762",
     "exception": false,
     "start_time": "2021-08-17T21:59:28.021308",
     "status": "completed"
    },
    "tags": []
   },
   "outputs": [
    {
     "name": "stdout",
     "output_type": "stream",
     "text": [
      "AxesSubplot(0.125,0.125;0.775x0.755)\n"
     ]
    },
    {
     "data": {
      "image/png": "[encoded data removed]",
      "text/plain": [
       "<Figure size 432x288 with 1 Axes>"
      ]
     },
     "metadata": {
      "needs_background": "light"
     },
     "output_type": "display_data"
    }
   ],
   "source": [
    "print(sns.boxplot(x=data['free sulfur dioxide']))\n"
   ]
  },
  {
   "cell_type": "code",
   "execution_count": 36,
   "id": "be961b93",
   "metadata": {
    "execution": {
     "iopub.execute_input": "2021-08-17T21:59:28.441304Z",
     "iopub.status.busy": "2021-08-17T21:59:28.427500Z",
     "iopub.status.idle": "2021-08-17T21:59:28.524560Z",
     "shell.execute_reply": "2021-08-17T21:59:28.523989Z",
     "shell.execute_reply.started": "2021-08-17T20:50:24.505517Z"
    },
    "papermill": {
     "duration": 0.212208,
     "end_time": "2021-08-17T21:59:28.524688",
     "exception": false,
     "start_time": "2021-08-17T21:59:28.312480",
     "status": "completed"
    },
    "tags": []
   },
   "outputs": [
    {
     "name": "stdout",
     "output_type": "stream",
     "text": [
      "AxesSubplot(0.125,0.125;0.775x0.755)\n"
     ]
    },
    {
     "data": {
      "image/png": "[encoded data removed]",
      "text/plain": [
       "<Figure size 432x288 with 1 Axes>"
      ]
     },
     "metadata": {
      "needs_background": "light"
     },
     "output_type": "display_data"
    }
   ],
   "source": [
    "print(sns.boxplot(x=data['total sulfur dioxide']))\n"
   ]
  },
  {
   "cell_type": "code",
   "execution_count": 37,
   "id": "e977df7a",
   "metadata": {
    "execution": {
     "iopub.execute_input": "2021-08-17T21:59:28.703790Z",
     "iopub.status.busy": "2021-08-17T21:59:28.685509Z",
     "iopub.status.idle": "2021-08-17T21:59:28.791249Z",
     "shell.execute_reply": "2021-08-17T21:59:28.790335Z",
     "shell.execute_reply.started": "2021-08-17T20:50:35.860693Z"
    },
    "papermill": {
     "duration": 0.188392,
     "end_time": "2021-08-17T21:59:28.791383",
     "exception": false,
     "start_time": "2021-08-17T21:59:28.602991",
     "status": "completed"
    },
    "tags": []
   },
   "outputs": [
    {
     "name": "stdout",
     "output_type": "stream",
     "text": [
      "AxesSubplot(0.125,0.125;0.775x0.755)\n"
     ]
    },
    {
     "data": {
      "image/png": "[encoded data removed]",
      "text/plain": [
       "<Figure size 432x288 with 1 Axes>"
      ]
     },
     "metadata": {
      "needs_background": "light"
     },
     "output_type": "display_data"
    }
   ],
   "source": [
    "print(sns.boxplot(x=data['density']))\n"
   ]
  },
  {
   "cell_type": "code",
   "execution_count": 38,
   "id": "c9096cce",
   "metadata": {
    "execution": {
     "iopub.execute_input": "2021-08-17T21:59:28.966405Z",
     "iopub.status.busy": "2021-08-17T21:59:28.960190Z",
     "iopub.status.idle": "2021-08-17T21:59:29.047151Z",
     "shell.execute_reply": "2021-08-17T21:59:29.046708Z",
     "shell.execute_reply.started": "2021-08-17T20:51:04.125183Z"
    },
    "papermill": {
     "duration": 0.178047,
     "end_time": "2021-08-17T21:59:29.047263",
     "exception": false,
     "start_time": "2021-08-17T21:59:28.869216",
     "status": "completed"
    },
    "tags": []
   },
   "outputs": [
    {
     "name": "stdout",
     "output_type": "stream",
     "text": [
      "AxesSubplot(0.125,0.125;0.775x0.755)\n"
     ]
    },
    {
     "data": {
      "image/png": "[encoded data removed]",
      "text/plain": [
       "<Figure size 432x288 with 1 Axes>"
      ]
     },
     "metadata": {
      "needs_background": "light"
     },
     "output_type": "display_data"
    }
   ],
   "source": [
    "print(sns.boxplot(x=data['pH']))\n"
   ]
  },
  {
   "cell_type": "code",
   "execution_count": 39,
   "id": "3b5d2dbc",
   "metadata": {
    "execution": {
     "iopub.execute_input": "2021-08-17T21:59:29.226761Z",
     "iopub.status.busy": "2021-08-17T21:59:29.224146Z",
     "iopub.status.idle": "2021-08-17T21:59:29.313108Z",
     "shell.execute_reply": "2021-08-17T21:59:29.313502Z",
     "shell.execute_reply.started": "2021-08-17T20:51:22.459372Z"
    },
    "papermill": {
     "duration": 0.187243,
     "end_time": "2021-08-17T21:59:29.313628",
     "exception": false,
     "start_time": "2021-08-17T21:59:29.126385",
     "status": "completed"
    },
    "tags": []
   },
   "outputs": [
    {
     "name": "stdout",
     "output_type": "stream",
     "text": [
      "AxesSubplot(0.125,0.125;0.775x0.755)\n"
     ]
    },
    {
     "data": {
      "image/png": "[encoded data removed]",
      "text/plain": [
       "<Figure size 432x288 with 1 Axes>"
      ]
     },
     "metadata": {
      "needs_background": "light"
     },
     "output_type": "display_data"
    }
   ],
   "source": [
    "print(sns.boxplot(x=data['sulphates']))\n"
   ]
  },
  {
   "cell_type": "code",
   "execution_count": 40,
   "id": "16c13134",
   "metadata": {
    "execution": {
     "iopub.execute_input": "2021-08-17T21:59:29.479510Z",
     "iopub.status.busy": "2021-08-17T21:59:29.478099Z",
     "iopub.status.idle": "2021-08-17T21:59:29.599532Z",
     "shell.execute_reply": "2021-08-17T21:59:29.598975Z",
     "shell.execute_reply.started": "2021-08-17T20:51:32.445763Z"
    },
    "papermill": {
     "duration": 0.205909,
     "end_time": "2021-08-17T21:59:29.599661",
     "exception": false,
     "start_time": "2021-08-17T21:59:29.393752",
     "status": "completed"
    },
    "tags": []
   },
   "outputs": [
    {
     "name": "stdout",
     "output_type": "stream",
     "text": [
      "AxesSubplot(0.125,0.125;0.775x0.755)\n"
     ]
    },
    {
     "data": {
      "image/png": "[encoded data removed]",
      "text/plain": [
       "<Figure size 432x288 with 1 Axes>"
      ]
     },
     "metadata": {
      "needs_background": "light"
     },
     "output_type": "display_data"
    }
   ],
   "source": [
    "print(sns.boxplot(x=data['alcohol']))\n"
   ]
  },
  {
   "cell_type": "code",
   "execution_count": 41,
   "id": "3da21d24",
   "metadata": {
    "execution": {
     "iopub.execute_input": "2021-08-17T21:59:29.854570Z",
     "iopub.status.busy": "2021-08-17T21:59:29.847897Z",
     "iopub.status.idle": "2021-08-17T21:59:29.927523Z",
     "shell.execute_reply": "2021-08-17T21:59:29.926979Z",
     "shell.execute_reply.started": "2021-08-17T20:51:42.386122Z"
    },
    "papermill": {
     "duration": 0.211675,
     "end_time": "2021-08-17T21:59:29.927657",
     "exception": false,
     "start_time": "2021-08-17T21:59:29.715982",
     "status": "completed"
    },
    "tags": []
   },
   "outputs": [
    {
     "name": "stdout",
     "output_type": "stream",
     "text": [
      "AxesSubplot(0.125,0.125;0.775x0.755)\n"
     ]
    },
    {
     "data": {
      "image/png": "[encoded data removed]",
      "text/plain": [
       "<Figure size 432x288 with 1 Axes>"
      ]
     },
     "metadata": {
      "needs_background": "light"
     },
     "output_type": "display_data"
    }
   ],
   "source": [
    "print(sns.boxplot(x=data['quality']))"
   ]
  },
  {
   "cell_type": "markdown",
   "id": "0cdef4cc",
   "metadata": {
    "execution": {
     "iopub.execute_input": "2021-08-17T21:31:03.84783Z",
     "iopub.status.busy": "2021-08-17T21:31:03.847464Z",
     "iopub.status.idle": "2021-08-17T21:31:03.851356Z",
     "shell.execute_reply": "2021-08-17T21:31:03.850437Z",
     "shell.execute_reply.started": "2021-08-17T21:31:03.8478Z"
    },
    "papermill": {
     "duration": 0.116584,
     "end_time": "2021-08-17T21:59:30.162154",
     "exception": false,
     "start_time": "2021-08-17T21:59:30.045570",
     "status": "completed"
    },
    "tags": []
   },
   "source": [
    "# 4."
   ]
  },
  {
   "cell_type": "code",
   "execution_count": 42,
   "id": "105b8bb7",
   "metadata": {
    "execution": {
     "iopub.execute_input": "2021-08-17T21:59:30.399815Z",
     "iopub.status.busy": "2021-08-17T21:59:30.399288Z",
     "iopub.status.idle": "2021-08-17T21:59:30.404782Z",
     "shell.execute_reply": "2021-08-17T21:59:30.404385Z",
     "shell.execute_reply.started": "2021-08-17T20:52:06.62538Z"
    },
    "papermill": {
     "duration": 0.125866,
     "end_time": "2021-08-17T21:59:30.404880",
     "exception": false,
     "start_time": "2021-08-17T21:59:30.279014",
     "status": "completed"
    },
    "tags": []
   },
   "outputs": [
    {
     "data": {
      "text/plain": [
       "LocalOutlierFactor(n_neighbors=5)"
      ]
     },
     "execution_count": 42,
     "metadata": {},
     "output_type": "execute_result"
    }
   ],
   "source": [
    "clf = LocalOutlierFactor(n_neighbors=5)\n",
    "clf"
   ]
  },
  {
   "cell_type": "code",
   "execution_count": 43,
   "id": "f796ca5d",
   "metadata": {
    "execution": {
     "iopub.execute_input": "2021-08-17T21:59:30.575235Z",
     "iopub.status.busy": "2021-08-17T21:59:30.574746Z",
     "iopub.status.idle": "2021-08-17T21:59:30.597193Z",
     "shell.execute_reply": "2021-08-17T21:59:30.596800Z",
     "shell.execute_reply.started": "2021-08-17T20:52:13.218941Z"
    },
    "papermill": {
     "duration": 0.110917,
     "end_time": "2021-08-17T21:59:30.597302",
     "exception": false,
     "start_time": "2021-08-17T21:59:30.486385",
     "status": "completed"
    },
    "tags": []
   },
   "outputs": [],
   "source": [
    "pred = clf.fit_predict(data)"
   ]
  },
  {
   "cell_type": "code",
   "execution_count": 44,
   "id": "7d623812",
   "metadata": {
    "execution": {
     "iopub.execute_input": "2021-08-17T21:59:30.762659Z",
     "iopub.status.busy": "2021-08-17T21:59:30.761958Z",
     "iopub.status.idle": "2021-08-17T21:59:30.767519Z",
     "shell.execute_reply": "2021-08-17T21:59:30.766996Z",
     "shell.execute_reply.started": "2021-08-17T20:52:21.335311Z"
    },
    "papermill": {
     "duration": 0.090004,
     "end_time": "2021-08-17T21:59:30.767620",
     "exception": false,
     "start_time": "2021-08-17T21:59:30.677616",
     "status": "completed"
    },
    "tags": []
   },
   "outputs": [
    {
     "data": {
      "text/plain": [
       "array([1, 1, 1, ..., 1, 1, 1])"
      ]
     },
     "execution_count": 44,
     "metadata": {},
     "output_type": "execute_result"
    }
   ],
   "source": [
    "pred"
   ]
  },
  {
   "cell_type": "code",
   "execution_count": 45,
   "id": "d7e0e87f",
   "metadata": {
    "execution": {
     "iopub.execute_input": "2021-08-17T21:59:30.949052Z",
     "iopub.status.busy": "2021-08-17T21:59:30.943923Z",
     "iopub.status.idle": "2021-08-17T21:59:30.965557Z",
     "shell.execute_reply": "2021-08-17T21:59:30.965139Z",
     "shell.execute_reply.started": "2021-08-17T20:52:40.764048Z"
    },
    "papermill": {
     "duration": 0.116046,
     "end_time": "2021-08-17T21:59:30.965660",
     "exception": false,
     "start_time": "2021-08-17T21:59:30.849614",
     "status": "completed"
    },
    "tags": []
   },
   "outputs": [
    {
     "data": {
      "text/html": [
       "<div>\n",
       "<style scoped>\n",
       "    .dataframe tbody tr th:only-of-type {\n",
       "        vertical-align: middle;\n",
       "    }\n",
       "\n",
       "    .dataframe tbody tr th {\n",
       "        vertical-align: top;\n",
       "    }\n",
       "\n",
       "    .dataframe thead th {\n",
       "        text-align: right;\n",
       "    }\n",
       "</style>\n",
       "<table border=\"1\" class=\"dataframe\">\n",
       "  <thead>\n",
       "    <tr style=\"text-align: right;\">\n",
       "      <th></th>\n",
       "      <th>fixed acidity</th>\n",
       "      <th>volatile acidity</th>\n",
       "      <th>citric acid</th>\n",
       "      <th>residual sugar</th>\n",
       "      <th>chlorides</th>\n",
       "      <th>free sulfur dioxide</th>\n",
       "      <th>total sulfur dioxide</th>\n",
       "      <th>density</th>\n",
       "      <th>pH</th>\n",
       "      <th>sulphates</th>\n",
       "      <th>alcohol</th>\n",
       "      <th>quality</th>\n",
       "    </tr>\n",
       "  </thead>\n",
       "  <tbody>\n",
       "    <tr>\n",
       "      <th>18</th>\n",
       "      <td>7.4</td>\n",
       "      <td>0.590</td>\n",
       "      <td>0.08</td>\n",
       "      <td>4.4</td>\n",
       "      <td>0.086</td>\n",
       "      <td>6.0</td>\n",
       "      <td>29.0</td>\n",
       "      <td>0.99740</td>\n",
       "      <td>3.38</td>\n",
       "      <td>0.50</td>\n",
       "      <td>9.0</td>\n",
       "      <td>4</td>\n",
       "    </tr>\n",
       "    <tr>\n",
       "      <th>35</th>\n",
       "      <td>7.8</td>\n",
       "      <td>0.645</td>\n",
       "      <td>0.00</td>\n",
       "      <td>5.5</td>\n",
       "      <td>0.086</td>\n",
       "      <td>5.0</td>\n",
       "      <td>18.0</td>\n",
       "      <td>0.99860</td>\n",
       "      <td>3.40</td>\n",
       "      <td>0.55</td>\n",
       "      <td>9.6</td>\n",
       "      <td>6</td>\n",
       "    </tr>\n",
       "    <tr>\n",
       "      <th>45</th>\n",
       "      <td>4.6</td>\n",
       "      <td>0.520</td>\n",
       "      <td>0.15</td>\n",
       "      <td>2.1</td>\n",
       "      <td>0.054</td>\n",
       "      <td>8.0</td>\n",
       "      <td>65.0</td>\n",
       "      <td>0.99340</td>\n",
       "      <td>3.90</td>\n",
       "      <td>0.56</td>\n",
       "      <td>13.1</td>\n",
       "      <td>4</td>\n",
       "    </tr>\n",
       "    <tr>\n",
       "      <th>56</th>\n",
       "      <td>10.2</td>\n",
       "      <td>0.420</td>\n",
       "      <td>0.57</td>\n",
       "      <td>3.4</td>\n",
       "      <td>0.070</td>\n",
       "      <td>4.0</td>\n",
       "      <td>10.0</td>\n",
       "      <td>0.99710</td>\n",
       "      <td>3.04</td>\n",
       "      <td>0.63</td>\n",
       "      <td>9.6</td>\n",
       "      <td>5</td>\n",
       "    </tr>\n",
       "    <tr>\n",
       "      <th>57</th>\n",
       "      <td>7.5</td>\n",
       "      <td>0.630</td>\n",
       "      <td>0.12</td>\n",
       "      <td>5.1</td>\n",
       "      <td>0.111</td>\n",
       "      <td>50.0</td>\n",
       "      <td>110.0</td>\n",
       "      <td>0.99830</td>\n",
       "      <td>3.26</td>\n",
       "      <td>0.77</td>\n",
       "      <td>9.4</td>\n",
       "      <td>5</td>\n",
       "    </tr>\n",
       "    <tr>\n",
       "      <th>...</th>\n",
       "      <td>...</td>\n",
       "      <td>...</td>\n",
       "      <td>...</td>\n",
       "      <td>...</td>\n",
       "      <td>...</td>\n",
       "      <td>...</td>\n",
       "      <td>...</td>\n",
       "      <td>...</td>\n",
       "      <td>...</td>\n",
       "      <td>...</td>\n",
       "      <td>...</td>\n",
       "      <td>...</td>\n",
       "    </tr>\n",
       "    <tr>\n",
       "      <th>1532</th>\n",
       "      <td>7.2</td>\n",
       "      <td>0.530</td>\n",
       "      <td>0.13</td>\n",
       "      <td>2.0</td>\n",
       "      <td>0.058</td>\n",
       "      <td>18.0</td>\n",
       "      <td>22.0</td>\n",
       "      <td>0.99573</td>\n",
       "      <td>3.21</td>\n",
       "      <td>0.68</td>\n",
       "      <td>9.9</td>\n",
       "      <td>6</td>\n",
       "    </tr>\n",
       "    <tr>\n",
       "      <th>1540</th>\n",
       "      <td>6.2</td>\n",
       "      <td>0.520</td>\n",
       "      <td>0.08</td>\n",
       "      <td>4.4</td>\n",
       "      <td>0.071</td>\n",
       "      <td>11.0</td>\n",
       "      <td>32.0</td>\n",
       "      <td>0.99646</td>\n",
       "      <td>3.56</td>\n",
       "      <td>0.63</td>\n",
       "      <td>11.6</td>\n",
       "      <td>6</td>\n",
       "    </tr>\n",
       "    <tr>\n",
       "      <th>1549</th>\n",
       "      <td>7.4</td>\n",
       "      <td>0.360</td>\n",
       "      <td>0.30</td>\n",
       "      <td>1.8</td>\n",
       "      <td>0.074</td>\n",
       "      <td>17.0</td>\n",
       "      <td>24.0</td>\n",
       "      <td>0.99419</td>\n",
       "      <td>3.24</td>\n",
       "      <td>0.70</td>\n",
       "      <td>11.4</td>\n",
       "      <td>8</td>\n",
       "    </tr>\n",
       "    <tr>\n",
       "      <th>1570</th>\n",
       "      <td>6.4</td>\n",
       "      <td>0.360</td>\n",
       "      <td>0.53</td>\n",
       "      <td>2.2</td>\n",
       "      <td>0.230</td>\n",
       "      <td>19.0</td>\n",
       "      <td>35.0</td>\n",
       "      <td>0.99340</td>\n",
       "      <td>3.37</td>\n",
       "      <td>0.93</td>\n",
       "      <td>12.4</td>\n",
       "      <td>6</td>\n",
       "    </tr>\n",
       "    <tr>\n",
       "      <th>1574</th>\n",
       "      <td>5.6</td>\n",
       "      <td>0.310</td>\n",
       "      <td>0.78</td>\n",
       "      <td>13.9</td>\n",
       "      <td>0.074</td>\n",
       "      <td>23.0</td>\n",
       "      <td>92.0</td>\n",
       "      <td>0.99677</td>\n",
       "      <td>3.39</td>\n",
       "      <td>0.48</td>\n",
       "      <td>10.5</td>\n",
       "      <td>6</td>\n",
       "    </tr>\n",
       "  </tbody>\n",
       "</table>\n",
       "<p>61 rows × 12 columns</p>\n",
       "</div>"
      ],
      "text/plain": [
       "      fixed acidity  volatile acidity  citric acid  residual sugar  chlorides  \\\n",
       "18              7.4             0.590         0.08             4.4      0.086   \n",
       "35              7.8             0.645         0.00             5.5      0.086   \n",
       "45              4.6             0.520         0.15             2.1      0.054   \n",
       "56             10.2             0.420         0.57             3.4      0.070   \n",
       "57              7.5             0.630         0.12             5.1      0.111   \n",
       "...             ...               ...          ...             ...        ...   \n",
       "1532            7.2             0.530         0.13             2.0      0.058   \n",
       "1540            6.2             0.520         0.08             4.4      0.071   \n",
       "1549            7.4             0.360         0.30             1.8      0.074   \n",
       "1570            6.4             0.360         0.53             2.2      0.230   \n",
       "1574            5.6             0.310         0.78            13.9      0.074   \n",
       "\n",
       "      free sulfur dioxide  total sulfur dioxide  density    pH  sulphates  \\\n",
       "18                    6.0                  29.0  0.99740  3.38       0.50   \n",
       "35                    5.0                  18.0  0.99860  3.40       0.55   \n",
       "45                    8.0                  65.0  0.99340  3.90       0.56   \n",
       "56                    4.0                  10.0  0.99710  3.04       0.63   \n",
       "57                   50.0                 110.0  0.99830  3.26       0.77   \n",
       "...                   ...                   ...      ...   ...        ...   \n",
       "1532                 18.0                  22.0  0.99573  3.21       0.68   \n",
       "1540                 11.0                  32.0  0.99646  3.56       0.63   \n",
       "1549                 17.0                  24.0  0.99419  3.24       0.70   \n",
       "1570                 19.0                  35.0  0.99340  3.37       0.93   \n",
       "1574                 23.0                  92.0  0.99677  3.39       0.48   \n",
       "\n",
       "      alcohol  quality  \n",
       "18        9.0        4  \n",
       "35        9.6        6  \n",
       "45       13.1        4  \n",
       "56        9.6        5  \n",
       "57        9.4        5  \n",
       "...       ...      ...  \n",
       "1532      9.9        6  \n",
       "1540     11.6        6  \n",
       "1549     11.4        8  \n",
       "1570     12.4        6  \n",
       "1574     10.5        6  \n",
       "\n",
       "[61 rows x 12 columns]"
      ]
     },
     "execution_count": 45,
     "metadata": {},
     "output_type": "execute_result"
    }
   ],
   "source": [
    "data[pred == -1]  # outlier value"
   ]
  },
  {
   "cell_type": "code",
   "execution_count": 46,
   "id": "b8ca51c9",
   "metadata": {
    "execution": {
     "iopub.execute_input": "2021-08-17T21:59:31.147087Z",
     "iopub.status.busy": "2021-08-17T21:59:31.139679Z",
     "iopub.status.idle": "2021-08-17T21:59:31.153479Z",
     "shell.execute_reply": "2021-08-17T21:59:31.152491Z",
     "shell.execute_reply.started": "2021-08-17T20:52:55.685143Z"
    },
    "papermill": {
     "duration": 0.106719,
     "end_time": "2021-08-17T21:59:31.153593",
     "exception": false,
     "start_time": "2021-08-17T21:59:31.046874",
     "status": "completed"
    },
    "tags": []
   },
   "outputs": [
    {
     "data": {
      "text/html": [
       "<div>\n",
       "<style scoped>\n",
       "    .dataframe tbody tr th:only-of-type {\n",
       "        vertical-align: middle;\n",
       "    }\n",
       "\n",
       "    .dataframe tbody tr th {\n",
       "        vertical-align: top;\n",
       "    }\n",
       "\n",
       "    .dataframe thead th {\n",
       "        text-align: right;\n",
       "    }\n",
       "</style>\n",
       "<table border=\"1\" class=\"dataframe\">\n",
       "  <thead>\n",
       "    <tr style=\"text-align: right;\">\n",
       "      <th></th>\n",
       "      <th>fixed acidity</th>\n",
       "      <th>volatile acidity</th>\n",
       "      <th>citric acid</th>\n",
       "      <th>residual sugar</th>\n",
       "      <th>chlorides</th>\n",
       "      <th>free sulfur dioxide</th>\n",
       "      <th>total sulfur dioxide</th>\n",
       "      <th>density</th>\n",
       "      <th>pH</th>\n",
       "      <th>sulphates</th>\n",
       "      <th>alcohol</th>\n",
       "      <th>quality</th>\n",
       "    </tr>\n",
       "  </thead>\n",
       "  <tbody>\n",
       "    <tr>\n",
       "      <th>0</th>\n",
       "      <td>7.4</td>\n",
       "      <td>0.700</td>\n",
       "      <td>0.00</td>\n",
       "      <td>1.9</td>\n",
       "      <td>0.076</td>\n",
       "      <td>11.0</td>\n",
       "      <td>34.0</td>\n",
       "      <td>0.99780</td>\n",
       "      <td>3.51</td>\n",
       "      <td>0.56</td>\n",
       "      <td>9.4</td>\n",
       "      <td>5</td>\n",
       "    </tr>\n",
       "    <tr>\n",
       "      <th>1</th>\n",
       "      <td>7.8</td>\n",
       "      <td>0.880</td>\n",
       "      <td>0.00</td>\n",
       "      <td>2.6</td>\n",
       "      <td>0.098</td>\n",
       "      <td>25.0</td>\n",
       "      <td>67.0</td>\n",
       "      <td>0.99680</td>\n",
       "      <td>3.20</td>\n",
       "      <td>0.68</td>\n",
       "      <td>9.8</td>\n",
       "      <td>5</td>\n",
       "    </tr>\n",
       "    <tr>\n",
       "      <th>2</th>\n",
       "      <td>7.8</td>\n",
       "      <td>0.760</td>\n",
       "      <td>0.04</td>\n",
       "      <td>2.3</td>\n",
       "      <td>0.092</td>\n",
       "      <td>15.0</td>\n",
       "      <td>54.0</td>\n",
       "      <td>0.99700</td>\n",
       "      <td>3.26</td>\n",
       "      <td>0.65</td>\n",
       "      <td>9.8</td>\n",
       "      <td>5</td>\n",
       "    </tr>\n",
       "    <tr>\n",
       "      <th>3</th>\n",
       "      <td>11.2</td>\n",
       "      <td>0.280</td>\n",
       "      <td>0.56</td>\n",
       "      <td>1.9</td>\n",
       "      <td>0.075</td>\n",
       "      <td>17.0</td>\n",
       "      <td>60.0</td>\n",
       "      <td>0.99800</td>\n",
       "      <td>3.16</td>\n",
       "      <td>0.58</td>\n",
       "      <td>9.8</td>\n",
       "      <td>6</td>\n",
       "    </tr>\n",
       "    <tr>\n",
       "      <th>4</th>\n",
       "      <td>7.4</td>\n",
       "      <td>0.700</td>\n",
       "      <td>0.00</td>\n",
       "      <td>1.9</td>\n",
       "      <td>0.076</td>\n",
       "      <td>11.0</td>\n",
       "      <td>34.0</td>\n",
       "      <td>0.99780</td>\n",
       "      <td>3.51</td>\n",
       "      <td>0.56</td>\n",
       "      <td>9.4</td>\n",
       "      <td>5</td>\n",
       "    </tr>\n",
       "    <tr>\n",
       "      <th>...</th>\n",
       "      <td>...</td>\n",
       "      <td>...</td>\n",
       "      <td>...</td>\n",
       "      <td>...</td>\n",
       "      <td>...</td>\n",
       "      <td>...</td>\n",
       "      <td>...</td>\n",
       "      <td>...</td>\n",
       "      <td>...</td>\n",
       "      <td>...</td>\n",
       "      <td>...</td>\n",
       "      <td>...</td>\n",
       "    </tr>\n",
       "    <tr>\n",
       "      <th>1594</th>\n",
       "      <td>6.2</td>\n",
       "      <td>0.600</td>\n",
       "      <td>0.08</td>\n",
       "      <td>2.0</td>\n",
       "      <td>0.090</td>\n",
       "      <td>32.0</td>\n",
       "      <td>44.0</td>\n",
       "      <td>0.99490</td>\n",
       "      <td>3.45</td>\n",
       "      <td>0.58</td>\n",
       "      <td>10.5</td>\n",
       "      <td>5</td>\n",
       "    </tr>\n",
       "    <tr>\n",
       "      <th>1595</th>\n",
       "      <td>5.9</td>\n",
       "      <td>0.550</td>\n",
       "      <td>0.10</td>\n",
       "      <td>2.2</td>\n",
       "      <td>0.062</td>\n",
       "      <td>39.0</td>\n",
       "      <td>51.0</td>\n",
       "      <td>0.99512</td>\n",
       "      <td>3.52</td>\n",
       "      <td>0.76</td>\n",
       "      <td>11.2</td>\n",
       "      <td>6</td>\n",
       "    </tr>\n",
       "    <tr>\n",
       "      <th>1596</th>\n",
       "      <td>6.3</td>\n",
       "      <td>0.510</td>\n",
       "      <td>0.13</td>\n",
       "      <td>2.3</td>\n",
       "      <td>0.076</td>\n",
       "      <td>29.0</td>\n",
       "      <td>40.0</td>\n",
       "      <td>0.99574</td>\n",
       "      <td>3.42</td>\n",
       "      <td>0.75</td>\n",
       "      <td>11.0</td>\n",
       "      <td>6</td>\n",
       "    </tr>\n",
       "    <tr>\n",
       "      <th>1597</th>\n",
       "      <td>5.9</td>\n",
       "      <td>0.645</td>\n",
       "      <td>0.12</td>\n",
       "      <td>2.0</td>\n",
       "      <td>0.075</td>\n",
       "      <td>32.0</td>\n",
       "      <td>44.0</td>\n",
       "      <td>0.99547</td>\n",
       "      <td>3.57</td>\n",
       "      <td>0.71</td>\n",
       "      <td>10.2</td>\n",
       "      <td>5</td>\n",
       "    </tr>\n",
       "    <tr>\n",
       "      <th>1598</th>\n",
       "      <td>6.0</td>\n",
       "      <td>0.310</td>\n",
       "      <td>0.47</td>\n",
       "      <td>3.6</td>\n",
       "      <td>0.067</td>\n",
       "      <td>18.0</td>\n",
       "      <td>42.0</td>\n",
       "      <td>0.99549</td>\n",
       "      <td>3.39</td>\n",
       "      <td>0.66</td>\n",
       "      <td>11.0</td>\n",
       "      <td>6</td>\n",
       "    </tr>\n",
       "  </tbody>\n",
       "</table>\n",
       "<p>1538 rows × 12 columns</p>\n",
       "</div>"
      ],
      "text/plain": [
       "      fixed acidity  volatile acidity  citric acid  residual sugar  chlorides  \\\n",
       "0               7.4             0.700         0.00             1.9      0.076   \n",
       "1               7.8             0.880         0.00             2.6      0.098   \n",
       "2               7.8             0.760         0.04             2.3      0.092   \n",
       "3              11.2             0.280         0.56             1.9      0.075   \n",
       "4               7.4             0.700         0.00             1.9      0.076   \n",
       "...             ...               ...          ...             ...        ...   \n",
       "1594            6.2             0.600         0.08             2.0      0.090   \n",
       "1595            5.9             0.550         0.10             2.2      0.062   \n",
       "1596            6.3             0.510         0.13             2.3      0.076   \n",
       "1597            5.9             0.645         0.12             2.0      0.075   \n",
       "1598            6.0             0.310         0.47             3.6      0.067   \n",
       "\n",
       "      free sulfur dioxide  total sulfur dioxide  density    pH  sulphates  \\\n",
       "0                    11.0                  34.0  0.99780  3.51       0.56   \n",
       "1                    25.0                  67.0  0.99680  3.20       0.68   \n",
       "2                    15.0                  54.0  0.99700  3.26       0.65   \n",
       "3                    17.0                  60.0  0.99800  3.16       0.58   \n",
       "4                    11.0                  34.0  0.99780  3.51       0.56   \n",
       "...                   ...                   ...      ...   ...        ...   \n",
       "1594                 32.0                  44.0  0.99490  3.45       0.58   \n",
       "1595                 39.0                  51.0  0.99512  3.52       0.76   \n",
       "1596                 29.0                  40.0  0.99574  3.42       0.75   \n",
       "1597                 32.0                  44.0  0.99547  3.57       0.71   \n",
       "1598                 18.0                  42.0  0.99549  3.39       0.66   \n",
       "\n",
       "      alcohol  quality  \n",
       "0         9.4        5  \n",
       "1         9.8        5  \n",
       "2         9.8        5  \n",
       "3         9.8        6  \n",
       "4         9.4        5  \n",
       "...       ...      ...  \n",
       "1594     10.5        5  \n",
       "1595     11.2        6  \n",
       "1596     11.0        6  \n",
       "1597     10.2        5  \n",
       "1598     11.0        6  \n",
       "\n",
       "[1538 rows x 12 columns]"
      ]
     },
     "execution_count": 46,
     "metadata": {},
     "output_type": "execute_result"
    }
   ],
   "source": [
    "dt = data[pred == 1]\n",
    "dt"
   ]
  },
  {
   "cell_type": "markdown",
   "id": "644c44c1",
   "metadata": {
    "papermill": {
     "duration": 0.081716,
     "end_time": "2021-08-17T21:59:31.318530",
     "exception": false,
     "start_time": "2021-08-17T21:59:31.236814",
     "status": "completed"
    },
    "tags": []
   },
   "source": [
    "# 5."
   ]
  },
  {
   "cell_type": "code",
   "execution_count": 47,
   "id": "e53b0f9a",
   "metadata": {
    "execution": {
     "iopub.execute_input": "2021-08-17T21:59:31.493382Z",
     "iopub.status.busy": "2021-08-17T21:59:31.492902Z",
     "iopub.status.idle": "2021-08-17T21:59:31.496323Z",
     "shell.execute_reply": "2021-08-17T21:59:31.495882Z",
     "shell.execute_reply.started": "2021-08-17T20:54:29.77909Z"
    },
    "papermill": {
     "duration": 0.094057,
     "end_time": "2021-08-17T21:59:31.496446",
     "exception": false,
     "start_time": "2021-08-17T21:59:31.402389",
     "status": "completed"
    },
    "tags": []
   },
   "outputs": [],
   "source": [
    "x = dt.drop([\"quality\"] , axis=1)"
   ]
  },
  {
   "cell_type": "code",
   "execution_count": 48,
   "id": "b7c773c5",
   "metadata": {
    "execution": {
     "iopub.execute_input": "2021-08-17T21:59:31.664558Z",
     "iopub.status.busy": "2021-08-17T21:59:31.663990Z",
     "iopub.status.idle": "2021-08-17T21:59:31.666837Z",
     "shell.execute_reply": "2021-08-17T21:59:31.666459Z",
     "shell.execute_reply.started": "2021-08-17T20:54:38.291616Z"
    },
    "papermill": {
     "duration": 0.088767,
     "end_time": "2021-08-17T21:59:31.666943",
     "exception": false,
     "start_time": "2021-08-17T21:59:31.578176",
     "status": "completed"
    },
    "tags": []
   },
   "outputs": [],
   "source": [
    "y = dt[\"quality\"]"
   ]
  },
  {
   "cell_type": "code",
   "execution_count": 49,
   "id": "4717dd02",
   "metadata": {
    "execution": {
     "iopub.execute_input": "2021-08-17T21:59:31.853935Z",
     "iopub.status.busy": "2021-08-17T21:59:31.844164Z",
     "iopub.status.idle": "2021-08-17T21:59:31.857652Z",
     "shell.execute_reply": "2021-08-17T21:59:31.857162Z",
     "shell.execute_reply.started": "2021-08-17T20:55:58.34664Z"
    },
    "papermill": {
     "duration": 0.107198,
     "end_time": "2021-08-17T21:59:31.857774",
     "exception": false,
     "start_time": "2021-08-17T21:59:31.750576",
     "status": "completed"
    },
    "tags": []
   },
   "outputs": [
    {
     "data": {
      "text/html": [
       "<div>\n",
       "<style scoped>\n",
       "    .dataframe tbody tr th:only-of-type {\n",
       "        vertical-align: middle;\n",
       "    }\n",
       "\n",
       "    .dataframe tbody tr th {\n",
       "        vertical-align: top;\n",
       "    }\n",
       "\n",
       "    .dataframe thead th {\n",
       "        text-align: right;\n",
       "    }\n",
       "</style>\n",
       "<table border=\"1\" class=\"dataframe\">\n",
       "  <thead>\n",
       "    <tr style=\"text-align: right;\">\n",
       "      <th></th>\n",
       "      <th>fixed acidity</th>\n",
       "      <th>volatile acidity</th>\n",
       "      <th>citric acid</th>\n",
       "      <th>residual sugar</th>\n",
       "      <th>chlorides</th>\n",
       "      <th>free sulfur dioxide</th>\n",
       "      <th>total sulfur dioxide</th>\n",
       "      <th>density</th>\n",
       "      <th>pH</th>\n",
       "      <th>sulphates</th>\n",
       "      <th>alcohol</th>\n",
       "    </tr>\n",
       "  </thead>\n",
       "  <tbody>\n",
       "    <tr>\n",
       "      <th>0</th>\n",
       "      <td>7.4</td>\n",
       "      <td>0.700</td>\n",
       "      <td>0.00</td>\n",
       "      <td>1.9</td>\n",
       "      <td>0.076</td>\n",
       "      <td>11.0</td>\n",
       "      <td>34.0</td>\n",
       "      <td>0.99780</td>\n",
       "      <td>3.51</td>\n",
       "      <td>0.56</td>\n",
       "      <td>9.4</td>\n",
       "    </tr>\n",
       "    <tr>\n",
       "      <th>1</th>\n",
       "      <td>7.8</td>\n",
       "      <td>0.880</td>\n",
       "      <td>0.00</td>\n",
       "      <td>2.6</td>\n",
       "      <td>0.098</td>\n",
       "      <td>25.0</td>\n",
       "      <td>67.0</td>\n",
       "      <td>0.99680</td>\n",
       "      <td>3.20</td>\n",
       "      <td>0.68</td>\n",
       "      <td>9.8</td>\n",
       "    </tr>\n",
       "    <tr>\n",
       "      <th>2</th>\n",
       "      <td>7.8</td>\n",
       "      <td>0.760</td>\n",
       "      <td>0.04</td>\n",
       "      <td>2.3</td>\n",
       "      <td>0.092</td>\n",
       "      <td>15.0</td>\n",
       "      <td>54.0</td>\n",
       "      <td>0.99700</td>\n",
       "      <td>3.26</td>\n",
       "      <td>0.65</td>\n",
       "      <td>9.8</td>\n",
       "    </tr>\n",
       "    <tr>\n",
       "      <th>3</th>\n",
       "      <td>11.2</td>\n",
       "      <td>0.280</td>\n",
       "      <td>0.56</td>\n",
       "      <td>1.9</td>\n",
       "      <td>0.075</td>\n",
       "      <td>17.0</td>\n",
       "      <td>60.0</td>\n",
       "      <td>0.99800</td>\n",
       "      <td>3.16</td>\n",
       "      <td>0.58</td>\n",
       "      <td>9.8</td>\n",
       "    </tr>\n",
       "    <tr>\n",
       "      <th>4</th>\n",
       "      <td>7.4</td>\n",
       "      <td>0.700</td>\n",
       "      <td>0.00</td>\n",
       "      <td>1.9</td>\n",
       "      <td>0.076</td>\n",
       "      <td>11.0</td>\n",
       "      <td>34.0</td>\n",
       "      <td>0.99780</td>\n",
       "      <td>3.51</td>\n",
       "      <td>0.56</td>\n",
       "      <td>9.4</td>\n",
       "    </tr>\n",
       "    <tr>\n",
       "      <th>...</th>\n",
       "      <td>...</td>\n",
       "      <td>...</td>\n",
       "      <td>...</td>\n",
       "      <td>...</td>\n",
       "      <td>...</td>\n",
       "      <td>...</td>\n",
       "      <td>...</td>\n",
       "      <td>...</td>\n",
       "      <td>...</td>\n",
       "      <td>...</td>\n",
       "      <td>...</td>\n",
       "    </tr>\n",
       "    <tr>\n",
       "      <th>1594</th>\n",
       "      <td>6.2</td>\n",
       "      <td>0.600</td>\n",
       "      <td>0.08</td>\n",
       "      <td>2.0</td>\n",
       "      <td>0.090</td>\n",
       "      <td>32.0</td>\n",
       "      <td>44.0</td>\n",
       "      <td>0.99490</td>\n",
       "      <td>3.45</td>\n",
       "      <td>0.58</td>\n",
       "      <td>10.5</td>\n",
       "    </tr>\n",
       "    <tr>\n",
       "      <th>1595</th>\n",
       "      <td>5.9</td>\n",
       "      <td>0.550</td>\n",
       "      <td>0.10</td>\n",
       "      <td>2.2</td>\n",
       "      <td>0.062</td>\n",
       "      <td>39.0</td>\n",
       "      <td>51.0</td>\n",
       "      <td>0.99512</td>\n",
       "      <td>3.52</td>\n",
       "      <td>0.76</td>\n",
       "      <td>11.2</td>\n",
       "    </tr>\n",
       "    <tr>\n",
       "      <th>1596</th>\n",
       "      <td>6.3</td>\n",
       "      <td>0.510</td>\n",
       "      <td>0.13</td>\n",
       "      <td>2.3</td>\n",
       "      <td>0.076</td>\n",
       "      <td>29.0</td>\n",
       "      <td>40.0</td>\n",
       "      <td>0.99574</td>\n",
       "      <td>3.42</td>\n",
       "      <td>0.75</td>\n",
       "      <td>11.0</td>\n",
       "    </tr>\n",
       "    <tr>\n",
       "      <th>1597</th>\n",
       "      <td>5.9</td>\n",
       "      <td>0.645</td>\n",
       "      <td>0.12</td>\n",
       "      <td>2.0</td>\n",
       "      <td>0.075</td>\n",
       "      <td>32.0</td>\n",
       "      <td>44.0</td>\n",
       "      <td>0.99547</td>\n",
       "      <td>3.57</td>\n",
       "      <td>0.71</td>\n",
       "      <td>10.2</td>\n",
       "    </tr>\n",
       "    <tr>\n",
       "      <th>1598</th>\n",
       "      <td>6.0</td>\n",
       "      <td>0.310</td>\n",
       "      <td>0.47</td>\n",
       "      <td>3.6</td>\n",
       "      <td>0.067</td>\n",
       "      <td>18.0</td>\n",
       "      <td>42.0</td>\n",
       "      <td>0.99549</td>\n",
       "      <td>3.39</td>\n",
       "      <td>0.66</td>\n",
       "      <td>11.0</td>\n",
       "    </tr>\n",
       "  </tbody>\n",
       "</table>\n",
       "<p>1538 rows × 11 columns</p>\n",
       "</div>"
      ],
      "text/plain": [
       "      fixed acidity  volatile acidity  citric acid  residual sugar  chlorides  \\\n",
       "0               7.4             0.700         0.00             1.9      0.076   \n",
       "1               7.8             0.880         0.00             2.6      0.098   \n",
       "2               7.8             0.760         0.04             2.3      0.092   \n",
       "3              11.2             0.280         0.56             1.9      0.075   \n",
       "4               7.4             0.700         0.00             1.9      0.076   \n",
       "...             ...               ...          ...             ...        ...   \n",
       "1594            6.2             0.600         0.08             2.0      0.090   \n",
       "1595            5.9             0.550         0.10             2.2      0.062   \n",
       "1596            6.3             0.510         0.13             2.3      0.076   \n",
       "1597            5.9             0.645         0.12             2.0      0.075   \n",
       "1598            6.0             0.310         0.47             3.6      0.067   \n",
       "\n",
       "      free sulfur dioxide  total sulfur dioxide  density    pH  sulphates  \\\n",
       "0                    11.0                  34.0  0.99780  3.51       0.56   \n",
       "1                    25.0                  67.0  0.99680  3.20       0.68   \n",
       "2                    15.0                  54.0  0.99700  3.26       0.65   \n",
       "3                    17.0                  60.0  0.99800  3.16       0.58   \n",
       "4                    11.0                  34.0  0.99780  3.51       0.56   \n",
       "...                   ...                   ...      ...   ...        ...   \n",
       "1594                 32.0                  44.0  0.99490  3.45       0.58   \n",
       "1595                 39.0                  51.0  0.99512  3.52       0.76   \n",
       "1596                 29.0                  40.0  0.99574  3.42       0.75   \n",
       "1597                 32.0                  44.0  0.99547  3.57       0.71   \n",
       "1598                 18.0                  42.0  0.99549  3.39       0.66   \n",
       "\n",
       "      alcohol  \n",
       "0         9.4  \n",
       "1         9.8  \n",
       "2         9.8  \n",
       "3         9.8  \n",
       "4         9.4  \n",
       "...       ...  \n",
       "1594     10.5  \n",
       "1595     11.2  \n",
       "1596     11.0  \n",
       "1597     10.2  \n",
       "1598     11.0  \n",
       "\n",
       "[1538 rows x 11 columns]"
      ]
     },
     "execution_count": 49,
     "metadata": {},
     "output_type": "execute_result"
    }
   ],
   "source": [
    "x"
   ]
  },
  {
   "cell_type": "code",
   "execution_count": 50,
   "id": "b65d7473",
   "metadata": {
    "execution": {
     "iopub.execute_input": "2021-08-17T21:59:32.029502Z",
     "iopub.status.busy": "2021-08-17T21:59:32.029002Z",
     "iopub.status.idle": "2021-08-17T21:59:32.032958Z",
     "shell.execute_reply": "2021-08-17T21:59:32.032575Z",
     "shell.execute_reply.started": "2021-08-17T20:56:09.359777Z"
    },
    "papermill": {
     "duration": 0.09133,
     "end_time": "2021-08-17T21:59:32.033075",
     "exception": false,
     "start_time": "2021-08-17T21:59:31.941745",
     "status": "completed"
    },
    "tags": []
   },
   "outputs": [
    {
     "data": {
      "text/plain": [
       "0       5\n",
       "1       5\n",
       "2       5\n",
       "3       6\n",
       "4       5\n",
       "       ..\n",
       "1594    5\n",
       "1595    6\n",
       "1596    6\n",
       "1597    5\n",
       "1598    6\n",
       "Name: quality, Length: 1538, dtype: int64"
      ]
     },
     "execution_count": 50,
     "metadata": {},
     "output_type": "execute_result"
    }
   ],
   "source": [
    "y"
   ]
  },
  {
   "cell_type": "code",
   "execution_count": 51,
   "id": "7984a58d",
   "metadata": {
    "execution": {
     "iopub.execute_input": "2021-08-17T21:59:32.203257Z",
     "iopub.status.busy": "2021-08-17T21:59:32.202793Z",
     "iopub.status.idle": "2021-08-17T21:59:32.206415Z",
     "shell.execute_reply": "2021-08-17T21:59:32.206789Z",
     "shell.execute_reply.started": "2021-08-17T20:58:02.987001Z"
    },
    "papermill": {
     "duration": 0.090436,
     "end_time": "2021-08-17T21:59:32.206929",
     "exception": false,
     "start_time": "2021-08-17T21:59:32.116493",
     "status": "completed"
    },
    "tags": []
   },
   "outputs": [],
   "source": [
    "scaler = StandardScaler()"
   ]
  },
  {
   "cell_type": "code",
   "execution_count": 52,
   "id": "c3dbc05b",
   "metadata": {
    "execution": {
     "iopub.execute_input": "2021-08-17T21:59:32.376284Z",
     "iopub.status.busy": "2021-08-17T21:59:32.375840Z",
     "iopub.status.idle": "2021-08-17T21:59:32.385412Z",
     "shell.execute_reply": "2021-08-17T21:59:32.384962Z",
     "shell.execute_reply.started": "2021-08-17T20:58:09.548913Z"
    },
    "papermill": {
     "duration": 0.095018,
     "end_time": "2021-08-17T21:59:32.385523",
     "exception": false,
     "start_time": "2021-08-17T21:59:32.290505",
     "status": "completed"
    },
    "tags": []
   },
   "outputs": [],
   "source": [
    "x= pd.DataFrame(scaler.fit_transform(x) , columns=x.columns)"
   ]
  },
  {
   "cell_type": "code",
   "execution_count": 53,
   "id": "bfcea120",
   "metadata": {
    "execution": {
     "iopub.execute_input": "2021-08-17T21:59:32.570036Z",
     "iopub.status.busy": "2021-08-17T21:59:32.569535Z",
     "iopub.status.idle": "2021-08-17T21:59:32.574542Z",
     "shell.execute_reply": "2021-08-17T21:59:32.574105Z",
     "shell.execute_reply.started": "2021-08-17T20:58:20.191979Z"
    },
    "papermill": {
     "duration": 0.105129,
     "end_time": "2021-08-17T21:59:32.574671",
     "exception": false,
     "start_time": "2021-08-17T21:59:32.469542",
     "status": "completed"
    },
    "tags": []
   },
   "outputs": [
    {
     "data": {
      "text/html": [
       "<div>\n",
       "<style scoped>\n",
       "    .dataframe tbody tr th:only-of-type {\n",
       "        vertical-align: middle;\n",
       "    }\n",
       "\n",
       "    .dataframe tbody tr th {\n",
       "        vertical-align: top;\n",
       "    }\n",
       "\n",
       "    .dataframe thead th {\n",
       "        text-align: right;\n",
       "    }\n",
       "</style>\n",
       "<table border=\"1\" class=\"dataframe\">\n",
       "  <thead>\n",
       "    <tr style=\"text-align: right;\">\n",
       "      <th></th>\n",
       "      <th>fixed acidity</th>\n",
       "      <th>volatile acidity</th>\n",
       "      <th>citric acid</th>\n",
       "      <th>residual sugar</th>\n",
       "      <th>chlorides</th>\n",
       "      <th>free sulfur dioxide</th>\n",
       "      <th>total sulfur dioxide</th>\n",
       "      <th>density</th>\n",
       "      <th>pH</th>\n",
       "      <th>sulphates</th>\n",
       "      <th>alcohol</th>\n",
       "    </tr>\n",
       "  </thead>\n",
       "  <tbody>\n",
       "    <tr>\n",
       "      <th>0</th>\n",
       "      <td>-0.535953</td>\n",
       "      <td>0.948816</td>\n",
       "      <td>-1.387261</td>\n",
       "      <td>-0.468229</td>\n",
       "      <td>-0.243873</td>\n",
       "      <td>-0.476616</td>\n",
       "      <td>-0.379451</td>\n",
       "      <td>0.577588</td>\n",
       "      <td>1.297161</td>\n",
       "      <td>-0.572955</td>\n",
       "      <td>-0.966995</td>\n",
       "    </tr>\n",
       "    <tr>\n",
       "      <th>1</th>\n",
       "      <td>-0.301611</td>\n",
       "      <td>1.953117</td>\n",
       "      <td>-1.387261</td>\n",
       "      <td>0.114372</td>\n",
       "      <td>0.224254</td>\n",
       "      <td>0.882925</td>\n",
       "      <td>0.661951</td>\n",
       "      <td>0.033215</td>\n",
       "      <td>-0.731842</td>\n",
       "      <td>0.134225</td>\n",
       "      <td>-0.581837</td>\n",
       "    </tr>\n",
       "    <tr>\n",
       "      <th>2</th>\n",
       "      <td>-0.301611</td>\n",
       "      <td>1.283583</td>\n",
       "      <td>-1.180491</td>\n",
       "      <td>-0.135314</td>\n",
       "      <td>0.096583</td>\n",
       "      <td>-0.088176</td>\n",
       "      <td>0.251702</td>\n",
       "      <td>0.142089</td>\n",
       "      <td>-0.339132</td>\n",
       "      <td>-0.042570</td>\n",
       "      <td>-0.581837</td>\n",
       "    </tr>\n",
       "    <tr>\n",
       "      <th>3</th>\n",
       "      <td>1.690289</td>\n",
       "      <td>-1.394555</td>\n",
       "      <td>1.507519</td>\n",
       "      <td>-0.468229</td>\n",
       "      <td>-0.265151</td>\n",
       "      <td>0.106044</td>\n",
       "      <td>0.441048</td>\n",
       "      <td>0.686463</td>\n",
       "      <td>-0.993649</td>\n",
       "      <td>-0.455092</td>\n",
       "      <td>-0.581837</td>\n",
       "    </tr>\n",
       "    <tr>\n",
       "      <th>4</th>\n",
       "      <td>-0.535953</td>\n",
       "      <td>0.948816</td>\n",
       "      <td>-1.387261</td>\n",
       "      <td>-0.468229</td>\n",
       "      <td>-0.243873</td>\n",
       "      <td>-0.476616</td>\n",
       "      <td>-0.379451</td>\n",
       "      <td>0.577588</td>\n",
       "      <td>1.297161</td>\n",
       "      <td>-0.572955</td>\n",
       "      <td>-0.966995</td>\n",
       "    </tr>\n",
       "  </tbody>\n",
       "</table>\n",
       "</div>"
      ],
      "text/plain": [
       "   fixed acidity  volatile acidity  citric acid  residual sugar  chlorides  \\\n",
       "0      -0.535953          0.948816    -1.387261       -0.468229  -0.243873   \n",
       "1      -0.301611          1.953117    -1.387261        0.114372   0.224254   \n",
       "2      -0.301611          1.283583    -1.180491       -0.135314   0.096583   \n",
       "3       1.690289         -1.394555     1.507519       -0.468229  -0.265151   \n",
       "4      -0.535953          0.948816    -1.387261       -0.468229  -0.243873   \n",
       "\n",
       "   free sulfur dioxide  total sulfur dioxide   density        pH  sulphates  \\\n",
       "0            -0.476616             -0.379451  0.577588  1.297161  -0.572955   \n",
       "1             0.882925              0.661951  0.033215 -0.731842   0.134225   \n",
       "2            -0.088176              0.251702  0.142089 -0.339132  -0.042570   \n",
       "3             0.106044              0.441048  0.686463 -0.993649  -0.455092   \n",
       "4            -0.476616             -0.379451  0.577588  1.297161  -0.572955   \n",
       "\n",
       "    alcohol  \n",
       "0 -0.966995  \n",
       "1 -0.581837  \n",
       "2 -0.581837  \n",
       "3 -0.581837  \n",
       "4 -0.966995  "
      ]
     },
     "execution_count": 53,
     "metadata": {},
     "output_type": "execute_result"
    }
   ],
   "source": [
    "x.head(5)"
   ]
  },
  {
   "cell_type": "code",
   "execution_count": 54,
   "id": "be322194",
   "metadata": {
    "execution": {
     "iopub.execute_input": "2021-08-17T21:59:32.745640Z",
     "iopub.status.busy": "2021-08-17T21:59:32.744965Z",
     "iopub.status.idle": "2021-08-17T21:59:32.750044Z",
     "shell.execute_reply": "2021-08-17T21:59:32.750430Z",
     "shell.execute_reply.started": "2021-08-17T20:58:40.295468Z"
    },
    "papermill": {
     "duration": 0.092713,
     "end_time": "2021-08-17T21:59:32.750574",
     "exception": false,
     "start_time": "2021-08-17T21:59:32.657861",
     "status": "completed"
    },
    "tags": []
   },
   "outputs": [],
   "source": [
    "ly=list(y)"
   ]
  },
  {
   "cell_type": "code",
   "execution_count": 55,
   "id": "1581dbe8",
   "metadata": {
    "execution": {
     "iopub.execute_input": "2021-08-17T21:59:32.926089Z",
     "iopub.status.busy": "2021-08-17T21:59:32.925395Z",
     "iopub.status.idle": "2021-08-17T21:59:32.929911Z",
     "shell.execute_reply": "2021-08-17T21:59:32.929473Z",
     "shell.execute_reply.started": "2021-08-17T20:58:54.246919Z"
    },
    "papermill": {
     "duration": 0.095527,
     "end_time": "2021-08-17T21:59:32.930035",
     "exception": false,
     "start_time": "2021-08-17T21:59:32.834508",
     "status": "completed"
    },
    "tags": []
   },
   "outputs": [
    {
     "data": {
      "text/plain": [
       "0       0\n",
       "1       0\n",
       "2       0\n",
       "3       0\n",
       "4       0\n",
       "       ..\n",
       "1533    0\n",
       "1534    0\n",
       "1535    0\n",
       "1536    0\n",
       "1537    0\n",
       "Length: 1538, dtype: int64"
      ]
     },
     "execution_count": 55,
     "metadata": {},
     "output_type": "execute_result"
    }
   ],
   "source": [
    "ynew=pd.Series([1 if x>6 else 0 for x in ly])\n",
    "ynew"
   ]
  },
  {
   "cell_type": "code",
   "execution_count": 56,
   "id": "95b9d773",
   "metadata": {
    "execution": {
     "iopub.execute_input": "2021-08-17T21:59:33.142818Z",
     "iopub.status.busy": "2021-08-17T21:59:33.142208Z",
     "iopub.status.idle": "2021-08-17T21:59:33.145630Z",
     "shell.execute_reply": "2021-08-17T21:59:33.145183Z",
     "shell.execute_reply.started": "2021-08-17T21:01:49.705414Z"
    },
    "papermill": {
     "duration": 0.130283,
     "end_time": "2021-08-17T21:59:33.145740",
     "exception": false,
     "start_time": "2021-08-17T21:59:33.015457",
     "status": "completed"
    },
    "tags": []
   },
   "outputs": [],
   "source": [
    "x_train,x_test,y_train,y_test= train_test_split(x,ynew,train_size=0.7,shuffle=True,random_state=45)\n"
   ]
  },
  {
   "cell_type": "markdown",
   "id": "4b607231",
   "metadata": {
    "papermill": {
     "duration": 0.082834,
     "end_time": "2021-08-17T21:59:33.313261",
     "exception": false,
     "start_time": "2021-08-17T21:59:33.230427",
     "status": "completed"
    },
    "tags": []
   },
   "source": [
    "# 6."
   ]
  },
  {
   "cell_type": "markdown",
   "id": "ab8d0868",
   "metadata": {
    "papermill": {
     "duration": 0.082762,
     "end_time": "2021-08-17T21:59:33.478718",
     "exception": false,
     "start_time": "2021-08-17T21:59:33.395956",
     "status": "completed"
    },
    "tags": []
   },
   "source": [
    "--------------------------------------------------------------------------------------------------------"
   ]
  },
  {
   "cell_type": "code",
   "execution_count": 57,
   "id": "7af05871",
   "metadata": {
    "execution": {
     "iopub.execute_input": "2021-08-17T21:59:33.653028Z",
     "iopub.status.busy": "2021-08-17T21:59:33.652534Z",
     "iopub.status.idle": "2021-08-17T21:59:33.669266Z",
     "shell.execute_reply": "2021-08-17T21:59:33.668883Z",
     "shell.execute_reply.started": "2021-08-17T21:02:09.143219Z"
    },
    "papermill": {
     "duration": 0.106874,
     "end_time": "2021-08-17T21:59:33.669394",
     "exception": false,
     "start_time": "2021-08-17T21:59:33.562520",
     "status": "completed"
    },
    "tags": []
   },
   "outputs": [
    {
     "data": {
      "text/plain": [
       "0.8874458874458875"
      ]
     },
     "execution_count": 57,
     "metadata": {},
     "output_type": "execute_result"
    }
   ],
   "source": [
    "loj_model = LogisticRegression(solver=\"liblinear\").fit(x_train,y_train)\n",
    "y_pred = loj_model.predict(x_test)\n",
    "accuracy_score(y_test,y_pred)"
   ]
  },
  {
   "cell_type": "code",
   "execution_count": 58,
   "id": "0d54790d",
   "metadata": {
    "execution": {
     "iopub.execute_input": "2021-08-17T21:59:33.891663Z",
     "iopub.status.busy": "2021-08-17T21:59:33.891144Z",
     "iopub.status.idle": "2021-08-17T21:59:33.964084Z",
     "shell.execute_reply": "2021-08-17T21:59:33.963707Z",
     "shell.execute_reply.started": "2021-08-17T21:06:29.186427Z"
    },
    "papermill": {
     "duration": 0.161057,
     "end_time": "2021-08-17T21:59:33.964187",
     "exception": false,
     "start_time": "2021-08-17T21:59:33.803130",
     "status": "completed"
    },
    "tags": []
   },
   "outputs": [
    {
     "data": {
      "text/plain": [
       "0.8873728029602219"
      ]
     },
     "execution_count": 58,
     "metadata": {},
     "output_type": "execute_result"
    }
   ],
   "source": [
    "cross_val_score(loj_model , x_test , y_test , cv=10).mean()"
   ]
  },
  {
   "cell_type": "markdown",
   "id": "2e8aa175",
   "metadata": {
    "papermill": {
     "duration": 0.083009,
     "end_time": "2021-08-17T21:59:34.130059",
     "exception": false,
     "start_time": "2021-08-17T21:59:34.047050",
     "status": "completed"
    },
    "tags": []
   },
   "source": [
    "----------------------------------------------------------------------------------------------------------"
   ]
  },
  {
   "cell_type": "code",
   "execution_count": 59,
   "id": "5f00628d",
   "metadata": {
    "execution": {
     "iopub.execute_input": "2021-08-17T21:59:34.304698Z",
     "iopub.status.busy": "2021-08-17T21:59:34.304195Z",
     "iopub.status.idle": "2021-08-17T21:59:34.343397Z",
     "shell.execute_reply": "2021-08-17T21:59:34.343834Z",
     "shell.execute_reply.started": "2021-08-17T21:07:00.018131Z"
    },
    "papermill": {
     "duration": 0.130114,
     "end_time": "2021-08-17T21:59:34.343974",
     "exception": false,
     "start_time": "2021-08-17T21:59:34.213860",
     "status": "completed"
    },
    "tags": []
   },
   "outputs": [
    {
     "data": {
      "text/plain": [
       "0.8766233766233766"
      ]
     },
     "execution_count": 59,
     "metadata": {},
     "output_type": "execute_result"
    }
   ],
   "source": [
    "knn_model = KNeighborsClassifier().fit(x_train,y_train)\n",
    "y_pred = knn_model.predict(x_test)\n",
    "accuracy_score(y_test,y_pred)"
   ]
  },
  {
   "cell_type": "code",
   "execution_count": 60,
   "id": "3807df90",
   "metadata": {
    "execution": {
     "iopub.execute_input": "2021-08-17T21:59:34.520489Z",
     "iopub.status.busy": "2021-08-17T21:59:34.519960Z",
     "iopub.status.idle": "2021-08-17T21:59:34.608709Z",
     "shell.execute_reply": "2021-08-17T21:59:34.608229Z",
     "shell.execute_reply.started": "2021-08-17T21:07:14.120368Z"
    },
    "papermill": {
     "duration": 0.18026,
     "end_time": "2021-08-17T21:59:34.608811",
     "exception": false,
     "start_time": "2021-08-17T21:59:34.428551",
     "status": "completed"
    },
    "tags": []
   },
   "outputs": [
    {
     "data": {
      "text/plain": [
       "0.8506475485661424"
      ]
     },
     "execution_count": 60,
     "metadata": {},
     "output_type": "execute_result"
    }
   ],
   "source": [
    "cross_val_score(knn_model , x_test , y_test , cv=10).mean()"
   ]
  },
  {
   "cell_type": "markdown",
   "id": "7361d73a",
   "metadata": {
    "papermill": {
     "duration": 0.084697,
     "end_time": "2021-08-17T21:59:34.778518",
     "exception": false,
     "start_time": "2021-08-17T21:59:34.693821",
     "status": "completed"
    },
    "tags": []
   },
   "source": [
    "-------------------------------------------------------------------------------------------------------"
   ]
  },
  {
   "cell_type": "code",
   "execution_count": 61,
   "id": "56812152",
   "metadata": {
    "execution": {
     "iopub.execute_input": "2021-08-17T21:59:34.955480Z",
     "iopub.status.busy": "2021-08-17T21:59:34.955013Z",
     "iopub.status.idle": "2021-08-17T21:59:34.986156Z",
     "shell.execute_reply": "2021-08-17T21:59:34.985779Z",
     "shell.execute_reply.started": "2021-08-17T21:07:40.020038Z"
    },
    "papermill": {
     "duration": 0.122208,
     "end_time": "2021-08-17T21:59:34.986260",
     "exception": false,
     "start_time": "2021-08-17T21:59:34.864052",
     "status": "completed"
    },
    "tags": []
   },
   "outputs": [
    {
     "data": {
      "text/plain": [
       "0.8658008658008658"
      ]
     },
     "execution_count": 61,
     "metadata": {},
     "output_type": "execute_result"
    }
   ],
   "source": [
    "svm_model = SVC(kernel=\"linear\").fit(x_train,y_train)\n",
    "y_pred = svm_model.predict(x_test)\n",
    "accuracy_score(y_test,y_pred)"
   ]
  },
  {
   "cell_type": "code",
   "execution_count": 62,
   "id": "0c493be0",
   "metadata": {
    "execution": {
     "iopub.execute_input": "2021-08-17T21:59:35.162320Z",
     "iopub.status.busy": "2021-08-17T21:59:35.161653Z",
     "iopub.status.idle": "2021-08-17T21:59:35.232265Z",
     "shell.execute_reply": "2021-08-17T21:59:35.231804Z",
     "shell.execute_reply.started": "2021-08-17T21:07:49.0155Z"
    },
    "papermill": {
     "duration": 0.160872,
     "end_time": "2021-08-17T21:59:35.232386",
     "exception": false,
     "start_time": "2021-08-17T21:59:35.071514",
     "status": "completed"
    },
    "tags": []
   },
   "outputs": [
    {
     "data": {
      "text/plain": [
       "0.8895929694727103"
      ]
     },
     "execution_count": 62,
     "metadata": {},
     "output_type": "execute_result"
    }
   ],
   "source": [
    "cross_val_score(svm_model , x_test , y_test , cv=10).mean()"
   ]
  },
  {
   "cell_type": "markdown",
   "id": "4e5c43aa",
   "metadata": {
    "papermill": {
     "duration": 0.085537,
     "end_time": "2021-08-17T21:59:35.403926",
     "exception": false,
     "start_time": "2021-08-17T21:59:35.318389",
     "status": "completed"
    },
    "tags": []
   },
   "source": [
    "-------------------------------------------------------------------------------------------------------"
   ]
  },
  {
   "cell_type": "code",
   "execution_count": 63,
   "id": "ad5c2623",
   "metadata": {
    "execution": {
     "iopub.execute_input": "2021-08-17T21:59:35.578390Z",
     "iopub.status.busy": "2021-08-17T21:59:35.577904Z",
     "iopub.status.idle": "2021-08-17T21:59:35.596930Z",
     "shell.execute_reply": "2021-08-17T21:59:35.596557Z",
     "shell.execute_reply.started": "2021-08-17T21:08:29.657692Z"
    },
    "papermill": {
     "duration": 0.107283,
     "end_time": "2021-08-17T21:59:35.597045",
     "exception": false,
     "start_time": "2021-08-17T21:59:35.489762",
     "status": "completed"
    },
    "tags": []
   },
   "outputs": [
    {
     "data": {
      "text/plain": [
       "0.8787878787878788"
      ]
     },
     "execution_count": 63,
     "metadata": {},
     "output_type": "execute_result"
    }
   ],
   "source": [
    "cart_model = DecisionTreeClassifier().fit(x_train,y_train)\n",
    "y_pred = cart_model.predict(x_test)\n",
    "accuracy_score(y_test,y_pred)"
   ]
  },
  {
   "cell_type": "code",
   "execution_count": 64,
   "id": "bdf12551",
   "metadata": {
    "execution": {
     "iopub.execute_input": "2021-08-17T21:59:35.773875Z",
     "iopub.status.busy": "2021-08-17T21:59:35.773407Z",
     "iopub.status.idle": "2021-08-17T21:59:35.853415Z",
     "shell.execute_reply": "2021-08-17T21:59:35.853817Z",
     "shell.execute_reply.started": "2021-08-17T21:09:00.039063Z"
    },
    "papermill": {
     "duration": 0.171153,
     "end_time": "2021-08-17T21:59:35.853950",
     "exception": false,
     "start_time": "2021-08-17T21:59:35.682797",
     "status": "completed"
    },
    "tags": []
   },
   "outputs": [
    {
     "data": {
      "text/plain": [
       "0.8331174838112858"
      ]
     },
     "execution_count": 64,
     "metadata": {},
     "output_type": "execute_result"
    }
   ],
   "source": [
    "cross_val_score(cart_model , x_test , y_test , cv=10).mean()"
   ]
  },
  {
   "cell_type": "markdown",
   "id": "9e262017",
   "metadata": {
    "papermill": {
     "duration": 0.086238,
     "end_time": "2021-08-17T21:59:36.026687",
     "exception": false,
     "start_time": "2021-08-17T21:59:35.940449",
     "status": "completed"
    },
    "tags": []
   },
   "source": [
    "----------------------------------------------------------------------------------------------------------"
   ]
  },
  {
   "cell_type": "code",
   "execution_count": 65,
   "id": "3cc6ecb4",
   "metadata": {
    "execution": {
     "iopub.execute_input": "2021-08-17T21:59:36.212417Z",
     "iopub.status.busy": "2021-08-17T21:59:36.207121Z",
     "iopub.status.idle": "2021-08-17T21:59:36.537136Z",
     "shell.execute_reply": "2021-08-17T21:59:36.536716Z",
     "shell.execute_reply.started": "2021-08-17T21:12:51.99608Z"
    },
    "papermill": {
     "duration": 0.423437,
     "end_time": "2021-08-17T21:59:36.537240",
     "exception": false,
     "start_time": "2021-08-17T21:59:36.113803",
     "status": "completed"
    },
    "tags": []
   },
   "outputs": [
    {
     "data": {
      "text/plain": [
       "0.9199134199134199"
      ]
     },
     "execution_count": 65,
     "metadata": {},
     "output_type": "execute_result"
    }
   ],
   "source": [
    "rf_model = RandomForestClassifier().fit(x_train,y_train)\n",
    "y_pred = rf_model.predict(x_test)\n",
    "accuracy_score(y_test,y_pred)"
   ]
  },
  {
   "cell_type": "code",
   "execution_count": 66,
   "id": "6efd0367",
   "metadata": {
    "execution": {
     "iopub.execute_input": "2021-08-17T21:59:36.715148Z",
     "iopub.status.busy": "2021-08-17T21:59:36.714481Z",
     "iopub.status.idle": "2021-08-17T21:59:37.397798Z",
     "shell.execute_reply": "2021-08-17T21:59:37.397348Z",
     "shell.execute_reply.started": "2021-08-17T21:13:10.064082Z"
    },
    "papermill": {
     "duration": 0.774093,
     "end_time": "2021-08-17T21:59:37.397905",
     "exception": false,
     "start_time": "2021-08-17T21:59:36.623812",
     "status": "completed"
    },
    "tags": []
   },
   "outputs": [
    {
     "data": {
      "text/plain": [
       "0.8658008658008658"
      ]
     },
     "execution_count": 66,
     "metadata": {},
     "output_type": "execute_result"
    }
   ],
   "source": [
    "cross_val_score(rf_model , x_test , y_test , cv=3).mean()"
   ]
  },
  {
   "cell_type": "markdown",
   "id": "b5c1e9f2",
   "metadata": {
    "papermill": {
     "duration": 0.086393,
     "end_time": "2021-08-17T21:59:37.571562",
     "exception": false,
     "start_time": "2021-08-17T21:59:37.485169",
     "status": "completed"
    },
    "tags": []
   },
   "source": [
    "--------------------------------------------------------------------------------------------------------"
   ]
  },
  {
   "cell_type": "code",
   "execution_count": 67,
   "id": "dd4d6eaf",
   "metadata": {
    "execution": {
     "iopub.execute_input": "2021-08-17T21:59:37.749508Z",
     "iopub.status.busy": "2021-08-17T21:59:37.749007Z",
     "iopub.status.idle": "2021-08-17T21:59:37.995600Z",
     "shell.execute_reply": "2021-08-17T21:59:37.995165Z",
     "shell.execute_reply.started": "2021-08-17T21:14:22.238141Z"
    },
    "papermill": {
     "duration": 0.338709,
     "end_time": "2021-08-17T21:59:37.995705",
     "exception": false,
     "start_time": "2021-08-17T21:59:37.656996",
     "status": "completed"
    },
    "tags": []
   },
   "outputs": [
    {
     "data": {
      "text/plain": [
       "0.9004329004329005"
      ]
     },
     "execution_count": 67,
     "metadata": {},
     "output_type": "execute_result"
    }
   ],
   "source": [
    "gbm_model = GradientBoostingClassifier().fit(x_train,y_train)\n",
    "y_pred = gbm_model.predict(x_test)\n",
    "accuracy_score(y_test,y_pred)"
   ]
  },
  {
   "cell_type": "code",
   "execution_count": 68,
   "id": "c034863c",
   "metadata": {
    "execution": {
     "iopub.execute_input": "2021-08-17T21:59:38.175255Z",
     "iopub.status.busy": "2021-08-17T21:59:38.174786Z",
     "iopub.status.idle": "2021-08-17T21:59:39.446678Z",
     "shell.execute_reply": "2021-08-17T21:59:39.447041Z",
     "shell.execute_reply.started": "2021-08-17T21:14:30.878755Z"
    },
    "papermill": {
     "duration": 1.364794,
     "end_time": "2021-08-17T21:59:39.447176",
     "exception": false,
     "start_time": "2021-08-17T21:59:38.082382",
     "status": "completed"
    },
    "tags": []
   },
   "outputs": [
    {
     "data": {
      "text/plain": [
       "0.8635060129509713"
      ]
     },
     "execution_count": 68,
     "metadata": {},
     "output_type": "execute_result"
    }
   ],
   "source": [
    "cross_val_score(gbm_model , x_test , y_test , cv=10).mean()"
   ]
  }
 ],
 "metadata": {
  "kernelspec": {
   "display_name": "Python 3",
   "language": "python",
   "name": "python3"
  },
  "language_info": {
   "codemirror_mode": {
    "name": "ipython",
    "version": 3
   },
   "file_extension": ".py",
   "mimetype": "text/x-python",
   "name": "python",
   "nbconvert_exporter": "python",
   "pygments_lexer": "ipython3",
   "version": "3.7.10"
  },
  "papermill": {
   "default_parameters": {},
   "duration": 35.931955,
   "end_time": "2021-08-17T21:59:40.922098",
   "environment_variables": {},
   "exception": null,
   "input_path": "__notebook__.ipynb",
   "output_path": "__notebook__.ipynb",
   "parameters": {},
   "start_time": "2021-08-17T21:59:04.990143",
   "version": "2.3.3"
  }
 },
 "nbformat": 4,
 "nbformat_minor": 5
}
